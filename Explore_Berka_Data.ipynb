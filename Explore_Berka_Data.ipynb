{
 "cells": [
  {
   "cell_type": "markdown",
   "metadata": {
    "cell_id": "4c6e7f46194e41d9b1800213e982a7df",
    "deepnote_cell_type": "text-cell-h1",
    "formattedRanges": []
   },
   "source": [
    "# Exploration of the Berka Banking Data from the Czech Republic"
   ]
  },
  {
   "cell_type": "markdown",
   "metadata": {
    "cell_id": "f9b1d56582fa4b9bb8f5ca6ea542f9ed",
    "deepnote_cell_type": "text-cell-p",
    "formattedRanges": []
   },
   "source": [
    "In the ensuing chaos that followed the collapse of the USSR, various former Soviet satellite states experienced differing levels of financial and developmental success. Our group is interested in examining a snapshot of financial transactions and data from the Czech Republic in the 1990s after its recent independence from the USSR and its amicable separation from Slovakia. By doing so, we aim to uncover insights, intelligence, and patterns related to its financial information during this transformative period."
   ]
  },
  {
   "cell_type": "markdown",
   "metadata": {
    "cell_id": "2e90389a810a417ab136fa3d5d733cba",
    "deepnote_cell_type": "text-cell-p",
    "formattedRanges": []
   },
   "source": [
    "To facilitate a deeper understanding of the factors that lead to financial default, this project aims to uncover not only financial behaviors in the Czech Republic,  but also universal human payment default behavior as a whole. We hope to examine the relationships between transactional behaviors, account types, and customer demographics. We were inspired by previous research completed on the Berka data (Zhou Xu, 2020)"
   ]
  },
  {
   "cell_type": "markdown",
   "metadata": {
    "cell_id": "0875e26e6ee9480aadd7d2e001db25d0",
    "deepnote_cell_type": "text-cell-h1",
    "formattedRanges": []
   },
   "source": [
    "# Import all Modules used in the code"
   ]
  },
  {
   "cell_type": "code",
   "execution_count": 1,
   "metadata": {
    "cell_id": "60b71048c12b4dc39c39b57196189307",
    "deepnote_cell_type": "code",
    "deepnote_to_be_reexecuted": false,
    "execution_millis": 829,
    "execution_start": 1718234593447,
    "source_hash": null
   },
   "outputs": [],
   "source": [
    "import pandas as pd\n",
    "import os\n",
    "\n",
    "# Module for ANOVA test for Categorical Values\n",
    "from scipy.stats import f_oneway\n",
    "\n",
    "# Import visualization modules\n",
    "import altair as alt\n",
    "import matplotlib.pyplot as plt\n",
    "import seaborn as sns\n",
    "import numpy as np\n",
    "import folium"
   ]
  },
  {
   "cell_type": "markdown",
   "metadata": {
    "cell_id": "f65ed53a63de458ca9536398eb4fd735",
    "deepnote_cell_type": "text-cell-h1",
    "formattedRanges": []
   },
   "source": [
    "# Reading CSV and ASC files to create project data frames"
   ]
  },
  {
   "cell_type": "markdown",
   "metadata": {
    "cell_id": "6bfc5f85abb34b2db7d62aff97707f5a",
    "deepnote_cell_type": "text-cell-p",
    "formattedRanges": []
   },
   "source": [
    "Note: Given the age of the Berka datasets, the only Macro variable found free to download was the average inflation by year. This data frame was named secondary_df"
   ]
  },
  {
   "cell_type": "code",
   "execution_count": 2,
   "metadata": {
    "cell_id": "124016d1182d48b584fcd2637fea9221",
    "deepnote_cell_type": "code",
    "deepnote_to_be_reexecuted": false,
    "execution_millis": 1887,
    "execution_start": 1718234594280,
    "source_hash": null
   },
   "outputs": [],
   "source": [
    "# Read all Berka files from the Internet if possible. NOTE: Secondary file containg inflation (drop first row, 2nd row column names)\n",
    "try:\n",
    "    account_df = pd.read_csv(\"https://raw.githubusercontent.com/zhouxu-ds/loan-default-prediction/main/data/account.asc\", sep=\";\")\n",
    "    card_df = pd.read_csv(\"https://raw.githubusercontent.com/zhouxu-ds/loan-default-prediction/main/data/card.asc\", sep=\";\")\n",
    "    client_df = pd.read_csv(\"https://raw.githubusercontent.com/zhouxu-ds/loan-default-prediction/main/data/client.asc\", sep=\";\")\n",
    "    disp_df = pd.read_csv(\"https://raw.githubusercontent.com/zhouxu-ds/loan-default-prediction/main/data/disp.asc\", sep=\";\")\n",
    "    district_df = pd.read_csv(\"https://raw.githubusercontent.com/zhouxu-ds/loan-default-prediction/main/data/district.asc\", sep=\";\")\n",
    "    loan_df = pd.read_csv(\"https://raw.githubusercontent.com/zhouxu-ds/loan-default-prediction/main/data/loan.asc\", sep=\";\")\n",
    "    order_df = pd.read_csv(\"https://raw.githubusercontent.com/zhouxu-ds/loan-default-prediction/main/data/order.asc\", sep=\";\")\n",
    "    trans_df = pd.read_csv(\"https://raw.githubusercontent.com/zhouxu-ds/loan-default-prediction/main/data/trans.asc\", sep=\";\", low_memory=False)\n",
    "except:\n",
    "    account_df = pd.read_csv(\"data/account.asc\", sep=\";\")\n",
    "    card_df = pd.read_csv(\"data/card.asc\", sep=\";\")\n",
    "    client_df = pd.read_csv(\"data/client.asc\", sep=\";\")\n",
    "    disp_df = pd.read_csv(\"data/disp.asc\", sep=\";\")\n",
    "    district_df = pd.read_csv(\"data/district.asc\", sep=\";\")\n",
    "    loan_df = pd.read_csv(\"data/loan.asc\", sep=\";\")\n",
    "    order_df = pd.read_csv(\"data/order.asc\", sep=\";\")\n",
    "    trans_df = pd.read_csv(\"data/trans.asc\", sep=\";\", low_memory=False)\n",
    "secondary_df = pd.read_csv(\"data/export-20240529.csv\", skiprows=1)"
   ]
  },
  {
   "cell_type": "markdown",
   "metadata": {
    "cell_id": "5981817349b64b74bc5e121673454435",
    "deepnote_cell_type": "text-cell-h1",
    "formattedRanges": []
   },
   "source": [
    "# Define Helper Functions"
   ]
  },
  {
   "cell_type": "code",
   "execution_count": 3,
   "metadata": {
    "cell_id": "c033a3f5fa5a4cd9971a17362d74639e",
    "deepnote_cell_type": "code",
    "deepnote_to_be_reexecuted": false,
    "execution_millis": 81,
    "execution_start": 1718234596172,
    "source_hash": null
   },
   "outputs": [],
   "source": [
    "# Define function to format the dates. All dates imported as objects. Need to transform to datetime64\n",
    "def format_date(df, date_column):\n",
    "    df[\"YY\"] = df[date_column].astype(str).str.slice(0, 2)\n",
    "    df[\"MM\"] = df[date_column].astype(str).str.slice(2, 4)\n",
    "    df[\"DD\"] = df[date_column].astype(str).str.slice(4, 6)\n",
    "    df[\"string_date\"] = \"19\" + df[\"YY\"] + \"-\" + df[\"MM\"] + \"-\" + df[\"DD\"]\n",
    "    df[str(date_column + \"_formatted\")] = pd.to_datetime(\n",
    "        df[\"string_date\"], format=\"%Y-%m-%d\"\n",
    "    )\n",
    "    df.drop([\"YY\", \"MM\", \"DD\", \"string_date\"], axis=1, inplace=True)\n",
    "    return df"
   ]
  },
  {
   "cell_type": "code",
   "execution_count": 4,
   "metadata": {
    "cell_id": "12e98185a6354dde933f1183834de342",
    "deepnote_cell_type": "code",
    "deepnote_to_be_reexecuted": false,
    "execution_millis": 255,
    "execution_start": 1718234596186,
    "source_hash": null
   },
   "outputs": [],
   "source": [
    "# Define function to extract gender and age from variable birth_number in client_df. Both variables were\n",
    "# numerically encoded in a single number sequence\n",
    "def process_birth_number(column):\n",
    "    target = column[\"birth_number\"]\n",
    "    if target // 100 % 100 > 50:\n",
    "        column[\"gender\"] = \"F\"\n",
    "    else:\n",
    "        column[\"gender\"] = \"M\"\n",
    "    column[\"age\"] = 99 - (target // 10000)\n",
    "    return column"
   ]
  },
  {
   "cell_type": "code",
   "execution_count": 5,
   "metadata": {
    "cell_id": "1cb1f3ffa424444b9763c9b8aa9a61cf",
    "deepnote_cell_type": "code",
    "deepnote_to_be_reexecuted": false,
    "execution_millis": 251,
    "execution_start": 1718234596190,
    "source_hash": null
   },
   "outputs": [],
   "source": [
    "# Define function to check for data quality in terms of zeros, blanks, missgins, and dtypes\n",
    "# The function also shows key duplicates and total number of records for exploration purposes\n",
    "def sanity_check(df, key):\n",
    "    missings = df.isnull().sum()\n",
    "    zeros = (df == 0).sum()\n",
    "    blanks = (df == \" \").sum()\n",
    "    data_types = df.dtypes\n",
    "    # Combining sets to a combined dataframe\n",
    "    combined = pd.DataFrame(\n",
    "        {\n",
    "            \"missings_values\": missings,\n",
    "            \"zero_values\": zeros,\n",
    "            \"blank_values\": blanks,\n",
    "            \"data_types\": data_types,\n",
    "        }\n",
    "    )\n",
    "    print(combined)\n",
    "    print(\">>> Duplicates in the key\", key, \": \", df[key].duplicated().sum())\n",
    "    print(\">>> Dataframe rows: \", len(df), \"\\n\")"
   ]
  },
  {
   "cell_type": "code",
   "execution_count": 6,
   "metadata": {
    "cell_id": "8a76ff37b5f34d4eb1938e0b6242c43e",
    "deepnote_cell_type": "code",
    "deepnote_to_be_reexecuted": false,
    "execution_millis": 249,
    "execution_start": 1718234596193,
    "source_hash": null
   },
   "outputs": [],
   "source": [
    "def cat_anova_test(df, elements):\n",
    "    for element in elements:\n",
    "        # Gets each variable data for each defaults/nodefault as a list\n",
    "        CategoryGroupLists = df.groupby(element)[\"default_or_likely_default\"].apply(\n",
    "            list\n",
    "        )\n",
    "        # Performing the ANOVA test\n",
    "        # We accept the Assumption(H0) only when P-Value &gt; 0.05\n",
    "        AnovaResults = f_oneway(*CategoryGroupLists)\n",
    "        if AnovaResults[1] > 0.05:  # alternative could be AnovaResults.pvalue\n",
    "            print(\n",
    "                \"P-Value for Anova - variable \",\n",
    "                element,\n",
    "                \":\",\n",
    "                AnovaResults[1],\n",
    "                \". Variable NOT Correlated\",\n",
    "            )\n",
    "        else:\n",
    "            print(\n",
    "                \"P-Value for Anova - variable \",\n",
    "                element,\n",
    "                \":\",\n",
    "                AnovaResults[1],\n",
    "                \". Variable Correlated\",\n",
    "            )\n",
    "\n",
    "# test described in https://thinkingneuron.com/how-to-measure-the-correlation-between-a-numeric-and-a-categorical-variable-in-python/       "
   ]
  },
  {
   "cell_type": "markdown",
   "metadata": {
    "cell_id": "ac253b887a58467bad614c3fdbe687fa",
    "deepnote_cell_type": "text-cell-h1",
    "formattedRanges": []
   },
   "source": [
    "# Explore Missings, Zeros and Blanks / Key duplicates and Dataset size"
   ]
  },
  {
   "cell_type": "markdown",
   "metadata": {
    "cell_id": "0c75d4ab5d944bb98b693b91a829276c",
    "deepnote_cell_type": "text-cell-p",
    "formattedRanges": []
   },
   "source": [
    "The objective of this section is to have a better understanding of: 1) the structure of the variables (in terms of missings, zeros, blanks, and their dtypes) in order to plan for potential variable modification, 2) Duplicates in the keys (and take that into consideration while merging), and 3) Understand the size of the data frame to ensure proper df joins."
   ]
  },
  {
   "cell_type": "code",
   "execution_count": 7,
   "metadata": {
    "cell_id": "1faf3ba1ba624bc695cb9f44b0f2fcf8",
    "deepnote_cell_type": "code",
    "deepnote_to_be_reexecuted": false,
    "execution_millis": 426,
    "execution_start": 1718234596204,
    "source_hash": null
   },
   "outputs": [
    {
     "name": "stdout",
     "output_type": "stream",
     "text": [
      "account_df\n",
      "             missings_values  zero_values  blank_values data_types\n",
      "account_id                 0            0             0      int64\n",
      "district_id                0            0             0      int64\n",
      "frequency                  0            0             0     object\n",
      "date                       0            0             0      int64\n",
      ">>> Duplicates in the key account_id :  0\n",
      ">>> Dataframe rows:  4500 \n",
      "\n",
      "card_df\n",
      "         missings_values  zero_values  blank_values data_types\n",
      "card_id                0            0             0      int64\n",
      "disp_id                0            0             0      int64\n",
      "type                   0            0             0     object\n",
      "issued                 0            0             0     object\n",
      ">>> Duplicates in the key card_id :  0\n",
      ">>> Dataframe rows:  892 \n",
      "\n",
      "client_df\n",
      "              missings_values  zero_values  blank_values data_types\n",
      "client_id                   0            0             0      int64\n",
      "birth_number                0            0             0      int64\n",
      "district_id                 0            0             0      int64\n",
      ">>> Duplicates in the key client_id :  0\n",
      ">>> Dataframe rows:  5369 \n",
      "\n",
      "disp_df\n",
      "            missings_values  zero_values  blank_values data_types\n",
      "disp_id                   0            0             0      int64\n",
      "client_id                 0            0             0      int64\n",
      "account_id                0            0             0      int64\n",
      "type                      0            0             0     object\n",
      ">>> Duplicates in the key account_id :  869\n",
      ">>> Dataframe rows:  5369 \n",
      "\n",
      "district_df\n",
      "     missings_values  zero_values  blank_values data_types\n",
      "A1                 0            0             0      int64\n",
      "A2                 0            0             0     object\n",
      "A3                 0            0             0     object\n",
      "A4                 0            0             0      int64\n",
      "A5                 0            5             0      int64\n",
      "A6                 0            4             0      int64\n",
      "A7                 0            4             0      int64\n",
      "A8                 0            4             0      int64\n",
      "A9                 0            0             0      int64\n",
      "A10                0            0             0    float64\n",
      "A11                0            0             0      int64\n",
      "A12                0            0             0     object\n",
      "A13                0            0             0    float64\n",
      "A14                0            0             0      int64\n",
      "A15                0            0             0     object\n",
      "A16                0            0             0      int64\n",
      ">>> Duplicates in the key A1 :  0\n",
      ">>> Dataframe rows:  77 \n",
      "\n",
      "loan_df\n",
      "            missings_values  zero_values  blank_values data_types\n",
      "loan_id                   0            0             0      int64\n",
      "account_id                0            0             0      int64\n",
      "date                      0            0             0      int64\n",
      "amount                    0            0             0      int64\n",
      "duration                  0            0             0      int64\n",
      "payments                  0            0             0    float64\n",
      "status                    0            0             0     object\n",
      ">>> Duplicates in the key loan_id :  0\n",
      ">>> Dataframe rows:  682 \n",
      "\n",
      "order_df\n",
      "            missings_values  zero_values  blank_values data_types\n",
      "order_id                  0            0             0      int64\n",
      "account_id                0            0             0      int64\n",
      "bank_to                   0            0             0     object\n",
      "account_to                0            0             0      int64\n",
      "amount                    0            0             0    float64\n",
      "k_symbol                  0            0          1379     object\n",
      ">>> Duplicates in the key order_id :  0\n",
      ">>> Dataframe rows:  6471 \n",
      "\n",
      "trans_df\n",
      "            missings_values  zero_values  blank_values data_types\n",
      "trans_id                  0            0             0      int64\n",
      "account_id                0            0             0      int64\n",
      "date                      0            0             0      int64\n",
      "type                      0            0             0     object\n",
      "operation            183114            0             0     object\n",
      "amount                    0           14             0    float64\n",
      "balance                   0            0             0    float64\n",
      "k_symbol             481881            0         53433     object\n",
      "bank                 782812            0             0     object\n",
      "account              760931        21881             0    float64\n",
      ">>> Duplicates in the key trans_id :  0\n",
      ">>> Dataframe rows:  1056320 \n",
      "\n",
      "secondary_df\n",
      "                    missings_values  zero_values  blank_values data_types\n",
      "Year                              0            0             0      int64\n",
      "Inflation Rate (%)                0            0             0     object\n",
      "Annual Change                     0            0             0     object\n",
      ">>> Duplicates in the key Year :  0\n",
      ">>> Dataframe rows:  63 \n",
      "\n"
     ]
    }
   ],
   "source": [
    "# Data Quality check: Check for missings, zeros or blank values. Also see key duplicates and df rows\n",
    "print(\"account_df\")\n",
    "sanity_check(account_df, \"account_id\")\n",
    "print(\"card_df\")\n",
    "sanity_check(card_df, \"card_id\")\n",
    "print(\"client_df\")\n",
    "sanity_check(client_df, \"client_id\")\n",
    "print(\"disp_df\")\n",
    "sanity_check(disp_df, \"account_id\")\n",
    "print(\"district_df\")\n",
    "sanity_check(district_df, \"A1\")\n",
    "print(\"loan_df\")\n",
    "sanity_check(loan_df, \"loan_id\")\n",
    "print(\"order_df\")\n",
    "sanity_check(order_df, \"order_id\")\n",
    "print(\"trans_df\")\n",
    "sanity_check(trans_df, \"trans_id\")\n",
    "print(\"secondary_df\")\n",
    "sanity_check(secondary_df, \"Year\")"
   ]
  },
  {
   "cell_type": "markdown",
   "metadata": {
    "cell_id": "2852db86d79f43f2affe2a8591532bf8",
    "deepnote_cell_type": "text-cell-h1",
    "formattedRanges": []
   },
   "source": [
    "# Explore Accounts"
   ]
  },
  {
   "cell_type": "code",
   "execution_count": 8,
   "metadata": {
    "cell_id": "7d04596580bb49fba1bcad8c082c30f7",
    "deepnote_cell_type": "code",
    "deepnote_to_be_reexecuted": false,
    "execution_millis": 307,
    "execution_start": 1718234596635,
    "source_hash": null
   },
   "outputs": [
    {
     "data": {
      "text/html": [
       "<div>\n",
       "<style scoped>\n",
       "    .dataframe tbody tr th:only-of-type {\n",
       "        vertical-align: middle;\n",
       "    }\n",
       "\n",
       "    .dataframe tbody tr th {\n",
       "        vertical-align: top;\n",
       "    }\n",
       "\n",
       "    .dataframe thead th {\n",
       "        text-align: right;\n",
       "    }\n",
       "</style>\n",
       "<table border=\"1\" class=\"dataframe\">\n",
       "  <thead>\n",
       "    <tr style=\"text-align: right;\">\n",
       "      <th></th>\n",
       "      <th>account_id</th>\n",
       "      <th>district_id</th>\n",
       "      <th>frequency</th>\n",
       "      <th>date</th>\n",
       "    </tr>\n",
       "  </thead>\n",
       "  <tbody>\n",
       "    <tr>\n",
       "      <th>0</th>\n",
       "      <td>576</td>\n",
       "      <td>55</td>\n",
       "      <td>POPLATEK MESICNE</td>\n",
       "      <td>930101</td>\n",
       "    </tr>\n",
       "    <tr>\n",
       "      <th>1</th>\n",
       "      <td>3818</td>\n",
       "      <td>74</td>\n",
       "      <td>POPLATEK MESICNE</td>\n",
       "      <td>930101</td>\n",
       "    </tr>\n",
       "    <tr>\n",
       "      <th>2</th>\n",
       "      <td>704</td>\n",
       "      <td>55</td>\n",
       "      <td>POPLATEK MESICNE</td>\n",
       "      <td>930101</td>\n",
       "    </tr>\n",
       "    <tr>\n",
       "      <th>3</th>\n",
       "      <td>2378</td>\n",
       "      <td>16</td>\n",
       "      <td>POPLATEK MESICNE</td>\n",
       "      <td>930101</td>\n",
       "    </tr>\n",
       "    <tr>\n",
       "      <th>4</th>\n",
       "      <td>2632</td>\n",
       "      <td>24</td>\n",
       "      <td>POPLATEK MESICNE</td>\n",
       "      <td>930102</td>\n",
       "    </tr>\n",
       "  </tbody>\n",
       "</table>\n",
       "</div>"
      ],
      "text/plain": [
       "   account_id  district_id         frequency    date\n",
       "0         576           55  POPLATEK MESICNE  930101\n",
       "1        3818           74  POPLATEK MESICNE  930101\n",
       "2         704           55  POPLATEK MESICNE  930101\n",
       "3        2378           16  POPLATEK MESICNE  930101\n",
       "4        2632           24  POPLATEK MESICNE  930102"
      ]
     },
     "execution_count": 8,
     "metadata": {},
     "output_type": "execute_result"
    }
   ],
   "source": [
    "# Visually explore data before any transformations, feature engineering, filtering, etc.\n",
    "account_df.head()"
   ]
  },
  {
   "cell_type": "code",
   "execution_count": 9,
   "metadata": {
    "cell_id": "f93a154d49af4fcbbf93d72fe1fb41f1",
    "deepnote_cell_type": "code",
    "deepnote_to_be_reexecuted": false,
    "execution_millis": 273,
    "execution_start": 1718234596670,
    "source_hash": null
   },
   "outputs": [
    {
     "data": {
      "text/plain": [
       "1993    1139\n",
       "1994     439\n",
       "1995     661\n",
       "1996    1363\n",
       "1997     898\n",
       "Name: date_formatted, dtype: int64"
      ]
     },
     "execution_count": 9,
     "metadata": {},
     "output_type": "execute_result"
    }
   ],
   "source": [
    "# Format 'date' object to datetime64 using format_date function\n",
    "account_df = format_date(df=account_df, date_column=\"date\")\n",
    "# List the number of accounts by year to better understand the distribution of these accounts\n",
    "account_df[\"date_formatted\"].dt.year.value_counts().sort_index()"
   ]
  },
  {
   "cell_type": "markdown",
   "metadata": {
    "cell_id": "d3b10d6d3c5c425b887fde3ddc94beff",
    "deepnote_cell_type": "text-cell-h1",
    "formattedRanges": []
   },
   "source": [
    "# Explore Cards"
   ]
  },
  {
   "cell_type": "code",
   "execution_count": 10,
   "metadata": {
    "cell_id": "a9cf0097a08f429e92eb95775b6a544b",
    "deepnote_cell_type": "code",
    "deepnote_to_be_reexecuted": false,
    "execution_millis": 223,
    "execution_start": 1718234596720,
    "source_hash": null
   },
   "outputs": [
    {
     "data": {
      "text/html": [
       "<div>\n",
       "<style scoped>\n",
       "    .dataframe tbody tr th:only-of-type {\n",
       "        vertical-align: middle;\n",
       "    }\n",
       "\n",
       "    .dataframe tbody tr th {\n",
       "        vertical-align: top;\n",
       "    }\n",
       "\n",
       "    .dataframe thead th {\n",
       "        text-align: right;\n",
       "    }\n",
       "</style>\n",
       "<table border=\"1\" class=\"dataframe\">\n",
       "  <thead>\n",
       "    <tr style=\"text-align: right;\">\n",
       "      <th></th>\n",
       "      <th>card_id</th>\n",
       "      <th>disp_id</th>\n",
       "      <th>type</th>\n",
       "      <th>issued</th>\n",
       "    </tr>\n",
       "  </thead>\n",
       "  <tbody>\n",
       "    <tr>\n",
       "      <th>0</th>\n",
       "      <td>1005</td>\n",
       "      <td>9285</td>\n",
       "      <td>classic</td>\n",
       "      <td>931107 00:00:00</td>\n",
       "    </tr>\n",
       "    <tr>\n",
       "      <th>1</th>\n",
       "      <td>104</td>\n",
       "      <td>588</td>\n",
       "      <td>classic</td>\n",
       "      <td>940119 00:00:00</td>\n",
       "    </tr>\n",
       "    <tr>\n",
       "      <th>2</th>\n",
       "      <td>747</td>\n",
       "      <td>4915</td>\n",
       "      <td>classic</td>\n",
       "      <td>940205 00:00:00</td>\n",
       "    </tr>\n",
       "    <tr>\n",
       "      <th>3</th>\n",
       "      <td>70</td>\n",
       "      <td>439</td>\n",
       "      <td>classic</td>\n",
       "      <td>940208 00:00:00</td>\n",
       "    </tr>\n",
       "    <tr>\n",
       "      <th>4</th>\n",
       "      <td>577</td>\n",
       "      <td>3687</td>\n",
       "      <td>classic</td>\n",
       "      <td>940215 00:00:00</td>\n",
       "    </tr>\n",
       "  </tbody>\n",
       "</table>\n",
       "</div>"
      ],
      "text/plain": [
       "   card_id  disp_id     type           issued\n",
       "0     1005     9285  classic  931107 00:00:00\n",
       "1      104      588  classic  940119 00:00:00\n",
       "2      747     4915  classic  940205 00:00:00\n",
       "3       70      439  classic  940208 00:00:00\n",
       "4      577     3687  classic  940215 00:00:00"
      ]
     },
     "execution_count": 10,
     "metadata": {},
     "output_type": "execute_result"
    }
   ],
   "source": [
    "# Visually explore data before any transformations, feature engineering, filtering, etc.\n",
    "card_df.head()"
   ]
  },
  {
   "cell_type": "code",
   "execution_count": 11,
   "metadata": {
    "cell_id": "737c869e8e9740f6aa0c340e208eedff",
    "deepnote_cell_type": "code",
    "deepnote_to_be_reexecuted": false,
    "execution_millis": 224,
    "execution_start": 1718234596720,
    "source_hash": null
   },
   "outputs": [
    {
     "name": "stdout",
     "output_type": "stream",
     "text": [
      "1993      1\n",
      "1994     21\n",
      "1995     63\n",
      "1996    116\n",
      "1997    242\n",
      "1998    449\n",
      "Name: issued_formatted, dtype: int64\n",
      "classic    659\n",
      "junior     145\n",
      "gold        88\n",
      "Name: type, dtype: int64\n"
     ]
    }
   ],
   "source": [
    "# Format 'issued' object to datetime64. This is when the card was originally issued\n",
    "card_df = format_date(df=card_df, date_column=\"issued\")\n",
    "# Show the number of cards by year (card issued year)\n",
    "print(card_df[\"issued_formatted\"].dt.year.value_counts().sort_index())\n",
    "# Show the number of cards by type\n",
    "print(card_df[\"type\"].value_counts())"
   ]
  },
  {
   "cell_type": "markdown",
   "metadata": {
    "cell_id": "e0e527b708fd457790fb0ebcd6d0d8ab",
    "deepnote_cell_type": "text-cell-h1",
    "formattedRanges": []
   },
   "source": [
    "# Explore Clients"
   ]
  },
  {
   "cell_type": "code",
   "execution_count": 12,
   "metadata": {
    "cell_id": "68d88614b07146e6822d2a79d66cac55",
    "deepnote_cell_type": "code",
    "deepnote_to_be_reexecuted": false,
    "execution_millis": 392,
    "execution_start": 1718234596773,
    "source_hash": null
   },
   "outputs": [
    {
     "data": {
      "text/html": [
       "<div>\n",
       "<style scoped>\n",
       "    .dataframe tbody tr th:only-of-type {\n",
       "        vertical-align: middle;\n",
       "    }\n",
       "\n",
       "    .dataframe tbody tr th {\n",
       "        vertical-align: top;\n",
       "    }\n",
       "\n",
       "    .dataframe thead th {\n",
       "        text-align: right;\n",
       "    }\n",
       "</style>\n",
       "<table border=\"1\" class=\"dataframe\">\n",
       "  <thead>\n",
       "    <tr style=\"text-align: right;\">\n",
       "      <th></th>\n",
       "      <th>client_id</th>\n",
       "      <th>birth_number</th>\n",
       "      <th>district_id</th>\n",
       "    </tr>\n",
       "  </thead>\n",
       "  <tbody>\n",
       "    <tr>\n",
       "      <th>0</th>\n",
       "      <td>1</td>\n",
       "      <td>706213</td>\n",
       "      <td>18</td>\n",
       "    </tr>\n",
       "    <tr>\n",
       "      <th>1</th>\n",
       "      <td>2</td>\n",
       "      <td>450204</td>\n",
       "      <td>1</td>\n",
       "    </tr>\n",
       "    <tr>\n",
       "      <th>2</th>\n",
       "      <td>3</td>\n",
       "      <td>406009</td>\n",
       "      <td>1</td>\n",
       "    </tr>\n",
       "    <tr>\n",
       "      <th>3</th>\n",
       "      <td>4</td>\n",
       "      <td>561201</td>\n",
       "      <td>5</td>\n",
       "    </tr>\n",
       "    <tr>\n",
       "      <th>4</th>\n",
       "      <td>5</td>\n",
       "      <td>605703</td>\n",
       "      <td>5</td>\n",
       "    </tr>\n",
       "  </tbody>\n",
       "</table>\n",
       "</div>"
      ],
      "text/plain": [
       "   client_id  birth_number  district_id\n",
       "0          1        706213           18\n",
       "1          2        450204            1\n",
       "2          3        406009            1\n",
       "3          4        561201            5\n",
       "4          5        605703            5"
      ]
     },
     "execution_count": 12,
     "metadata": {},
     "output_type": "execute_result"
    }
   ],
   "source": [
    "# Visually explore data before any transformations, feature engineering, filtering, etc.\n",
    "client_df.head()"
   ]
  },
  {
   "cell_type": "code",
   "execution_count": 13,
   "metadata": {
    "cell_id": "15dd77cc6dfc440c9169791dcbbfaec3",
    "deepnote_cell_type": "code",
    "deepnote_to_be_reexecuted": false,
    "execution_millis": 3951,
    "execution_start": 1718234596774,
    "source_hash": null
   },
   "outputs": [
    {
     "name": "stdout",
     "output_type": "stream",
     "text": [
      "count    5369.000000\n",
      "mean       45.801639\n",
      "std        17.282283\n",
      "min        12.000000\n",
      "25%        31.000000\n",
      "50%        45.000000\n",
      "75%        59.000000\n",
      "max        88.000000\n",
      "Name: age, dtype: float64\n"
     ]
    },
    {
     "data": {
      "text/html": [
       "<div>\n",
       "<style scoped>\n",
       "    .dataframe tbody tr th:only-of-type {\n",
       "        vertical-align: middle;\n",
       "    }\n",
       "\n",
       "    .dataframe tbody tr th {\n",
       "        vertical-align: top;\n",
       "    }\n",
       "\n",
       "    .dataframe thead th {\n",
       "        text-align: right;\n",
       "    }\n",
       "</style>\n",
       "<table border=\"1\" class=\"dataframe\">\n",
       "  <thead>\n",
       "    <tr style=\"text-align: right;\">\n",
       "      <th></th>\n",
       "      <th>client_id</th>\n",
       "      <th>birth_number</th>\n",
       "      <th>district_id</th>\n",
       "      <th>gender</th>\n",
       "      <th>age</th>\n",
       "    </tr>\n",
       "  </thead>\n",
       "  <tbody>\n",
       "    <tr>\n",
       "      <th>0</th>\n",
       "      <td>1</td>\n",
       "      <td>706213</td>\n",
       "      <td>18</td>\n",
       "      <td>F</td>\n",
       "      <td>29</td>\n",
       "    </tr>\n",
       "    <tr>\n",
       "      <th>1</th>\n",
       "      <td>2</td>\n",
       "      <td>450204</td>\n",
       "      <td>1</td>\n",
       "      <td>M</td>\n",
       "      <td>54</td>\n",
       "    </tr>\n",
       "  </tbody>\n",
       "</table>\n",
       "</div>"
      ],
      "text/plain": [
       "   client_id  birth_number  district_id gender  age\n",
       "0          1        706213           18      F   29\n",
       "1          2        450204            1      M   54"
      ]
     },
     "execution_count": 13,
     "metadata": {},
     "output_type": "execute_result"
    }
   ],
   "source": [
    "# Apply function to extract gender and age from the variable 'birth number'\n",
    "client_df = client_df.apply(process_birth_number, axis=1)\n",
    "# calculate summary statistics for age to how clean it is or whether we should transform it\n",
    "print(client_df[\"age\"].describe())\n",
    "# Validate age and gender are in the dataset\n",
    "client_df.head(2)"
   ]
  },
  {
   "cell_type": "markdown",
   "metadata": {
    "cell_id": "22c294a65bbe4c7791dd4e4bcc5c5d84",
    "deepnote_cell_type": "text-cell-h1",
    "formattedRanges": []
   },
   "source": [
    "# Explore Disposition"
   ]
  },
  {
   "cell_type": "code",
   "execution_count": 14,
   "metadata": {
    "cell_id": "6a33441e87db4a6380f66aa9f7a0366a",
    "deepnote_cell_type": "code",
    "deepnote_to_be_reexecuted": false,
    "execution_millis": 241,
    "execution_start": 1718234600756,
    "source_hash": null
   },
   "outputs": [
    {
     "data": {
      "text/html": [
       "<div>\n",
       "<style scoped>\n",
       "    .dataframe tbody tr th:only-of-type {\n",
       "        vertical-align: middle;\n",
       "    }\n",
       "\n",
       "    .dataframe tbody tr th {\n",
       "        vertical-align: top;\n",
       "    }\n",
       "\n",
       "    .dataframe thead th {\n",
       "        text-align: right;\n",
       "    }\n",
       "</style>\n",
       "<table border=\"1\" class=\"dataframe\">\n",
       "  <thead>\n",
       "    <tr style=\"text-align: right;\">\n",
       "      <th></th>\n",
       "      <th>disp_id</th>\n",
       "      <th>client_id</th>\n",
       "      <th>account_id</th>\n",
       "      <th>type</th>\n",
       "    </tr>\n",
       "  </thead>\n",
       "  <tbody>\n",
       "    <tr>\n",
       "      <th>0</th>\n",
       "      <td>1</td>\n",
       "      <td>1</td>\n",
       "      <td>1</td>\n",
       "      <td>OWNER</td>\n",
       "    </tr>\n",
       "    <tr>\n",
       "      <th>1</th>\n",
       "      <td>2</td>\n",
       "      <td>2</td>\n",
       "      <td>2</td>\n",
       "      <td>OWNER</td>\n",
       "    </tr>\n",
       "    <tr>\n",
       "      <th>2</th>\n",
       "      <td>3</td>\n",
       "      <td>3</td>\n",
       "      <td>2</td>\n",
       "      <td>DISPONENT</td>\n",
       "    </tr>\n",
       "    <tr>\n",
       "      <th>3</th>\n",
       "      <td>4</td>\n",
       "      <td>4</td>\n",
       "      <td>3</td>\n",
       "      <td>OWNER</td>\n",
       "    </tr>\n",
       "    <tr>\n",
       "      <th>4</th>\n",
       "      <td>5</td>\n",
       "      <td>5</td>\n",
       "      <td>3</td>\n",
       "      <td>DISPONENT</td>\n",
       "    </tr>\n",
       "  </tbody>\n",
       "</table>\n",
       "</div>"
      ],
      "text/plain": [
       "   disp_id  client_id  account_id       type\n",
       "0        1          1           1      OWNER\n",
       "1        2          2           2      OWNER\n",
       "2        3          3           2  DISPONENT\n",
       "3        4          4           3      OWNER\n",
       "4        5          5           3  DISPONENT"
      ]
     },
     "execution_count": 14,
     "metadata": {},
     "output_type": "execute_result"
    }
   ],
   "source": [
    "# Visually explore data before any transformations, feature engineering, filtering, etc.\n",
    "# Note: each record relates together a client with an account (i.e., rights of client to operate accounts)\n",
    "disp_df.head()"
   ]
  },
  {
   "cell_type": "code",
   "execution_count": 15,
   "metadata": {
    "cell_id": "c8ba560c43ca425ba6419130f4f556bd",
    "deepnote_cell_type": "code",
    "deepnote_to_be_reexecuted": false,
    "execution_millis": 241,
    "execution_start": 1718234600757,
    "source_hash": null
   },
   "outputs": [
    {
     "data": {
      "text/plain": [
       "OWNER        4500\n",
       "DISPONENT     869\n",
       "Name: type, dtype: int64"
      ]
     },
     "execution_count": 15,
     "metadata": {},
     "output_type": "execute_result"
    }
   ],
   "source": [
    "# Need to determine whether we have authorized users ('type'='DISPONENT'). Analysis is centered\n",
    "# around loan default, so cards with authorized users might be a good indicator to explore\n",
    "disp_df[\"type\"].value_counts()"
   ]
  },
  {
   "cell_type": "code",
   "execution_count": 16,
   "metadata": {
    "cell_id": "c37175a5ef9a4b0c9c01264ee50b6ef5",
    "deepnote_cell_type": "code",
    "deepnote_to_be_reexecuted": false,
    "execution_millis": 448,
    "execution_start": 1718234600758,
    "source_hash": null
   },
   "outputs": [
    {
     "name": "stdout",
     "output_type": "stream",
     "text": [
      "Number of customers with authorized users in their cards:  869\n"
     ]
    },
    {
     "data": {
      "text/html": [
       "<div>\n",
       "<style scoped>\n",
       "    .dataframe tbody tr th:only-of-type {\n",
       "        vertical-align: middle;\n",
       "    }\n",
       "\n",
       "    .dataframe tbody tr th {\n",
       "        vertical-align: top;\n",
       "    }\n",
       "\n",
       "    .dataframe thead th {\n",
       "        text-align: right;\n",
       "    }\n",
       "</style>\n",
       "<table border=\"1\" class=\"dataframe\">\n",
       "  <thead>\n",
       "    <tr style=\"text-align: right;\">\n",
       "      <th></th>\n",
       "      <th>disp_id</th>\n",
       "      <th>client_id</th>\n",
       "      <th>account_id</th>\n",
       "      <th>type</th>\n",
       "      <th>user_flag</th>\n",
       "    </tr>\n",
       "  </thead>\n",
       "  <tbody>\n",
       "    <tr>\n",
       "      <th>0</th>\n",
       "      <td>1</td>\n",
       "      <td>1</td>\n",
       "      <td>1</td>\n",
       "      <td>OWNER</td>\n",
       "      <td>False</td>\n",
       "    </tr>\n",
       "    <tr>\n",
       "      <th>1</th>\n",
       "      <td>2</td>\n",
       "      <td>2</td>\n",
       "      <td>2</td>\n",
       "      <td>OWNER</td>\n",
       "      <td>True</td>\n",
       "    </tr>\n",
       "    <tr>\n",
       "      <th>3</th>\n",
       "      <td>4</td>\n",
       "      <td>4</td>\n",
       "      <td>3</td>\n",
       "      <td>OWNER</td>\n",
       "      <td>True</td>\n",
       "    </tr>\n",
       "  </tbody>\n",
       "</table>\n",
       "</div>"
      ],
      "text/plain": [
       "   disp_id  client_id  account_id   type  user_flag\n",
       "0        1          1           1  OWNER      False\n",
       "1        2          2           2  OWNER       True\n",
       "3        4          4           3  OWNER       True"
      ]
     },
     "execution_count": 16,
     "metadata": {},
     "output_type": "execute_result"
    }
   ],
   "source": [
    "# Feature Engineering: We want to compare accounts where there is an authorized user vs the ones\n",
    "# with no authorized users in terms of default. New variable added: user_flag\n",
    "\n",
    "# Create a flag to indicate whether there is a 'DISPONENT' (authorized user) for each account\n",
    "disp_df[\"user_flag\"] = disp_df.groupby(\"account_id\")[\"type\"].transform(\n",
    "    lambda x: \"DISPONENT\" in x.values\n",
    ")\n",
    "\n",
    "# Filter the dataframe to keep only rows where type is 'OWNER'. Deep copy to avoid warnings during joins\n",
    "disp_df = disp_df[disp_df[\"type\"] == \"OWNER\"].copy()\n",
    "\n",
    "# Validate 'user_flag' records. Compare vs the 869 count in the previous cell\n",
    "print(\n",
    "    \"Number of customers with authorized users in their cards: \",\n",
    "    disp_df[\"user_flag\"].sum(),\n",
    ")\n",
    "\n",
    "# Ensure changes are incorporated in the dataset\n",
    "disp_df.head(3)"
   ]
  },
  {
   "cell_type": "markdown",
   "metadata": {
    "cell_id": "f96cdb569edd4aca80d65e7dbe78bd22",
    "deepnote_cell_type": "text-cell-h1",
    "formattedRanges": []
   },
   "source": [
    "# Explore Districts (i.e., Demographic Data)"
   ]
  },
  {
   "cell_type": "code",
   "execution_count": 17,
   "metadata": {
    "cell_id": "cf996df4605a42b9b825481a28d82af9",
    "deepnote_cell_type": "code",
    "deepnote_to_be_reexecuted": false,
    "execution_millis": 405,
    "execution_start": 1718234601220,
    "source_hash": null
   },
   "outputs": [
    {
     "data": {
      "text/html": [
       "<div>\n",
       "<style scoped>\n",
       "    .dataframe tbody tr th:only-of-type {\n",
       "        vertical-align: middle;\n",
       "    }\n",
       "\n",
       "    .dataframe tbody tr th {\n",
       "        vertical-align: top;\n",
       "    }\n",
       "\n",
       "    .dataframe thead th {\n",
       "        text-align: right;\n",
       "    }\n",
       "</style>\n",
       "<table border=\"1\" class=\"dataframe\">\n",
       "  <thead>\n",
       "    <tr style=\"text-align: right;\">\n",
       "      <th></th>\n",
       "      <th>A1</th>\n",
       "      <th>A2</th>\n",
       "      <th>A3</th>\n",
       "      <th>A4</th>\n",
       "      <th>A5</th>\n",
       "      <th>A6</th>\n",
       "      <th>A7</th>\n",
       "      <th>A8</th>\n",
       "      <th>A9</th>\n",
       "      <th>A10</th>\n",
       "      <th>A11</th>\n",
       "      <th>A12</th>\n",
       "      <th>A13</th>\n",
       "      <th>A14</th>\n",
       "      <th>A15</th>\n",
       "      <th>A16</th>\n",
       "    </tr>\n",
       "  </thead>\n",
       "  <tbody>\n",
       "    <tr>\n",
       "      <th>0</th>\n",
       "      <td>1</td>\n",
       "      <td>Hl.m. Praha</td>\n",
       "      <td>Prague</td>\n",
       "      <td>1204953</td>\n",
       "      <td>0</td>\n",
       "      <td>0</td>\n",
       "      <td>0</td>\n",
       "      <td>1</td>\n",
       "      <td>1</td>\n",
       "      <td>100.0</td>\n",
       "      <td>12541</td>\n",
       "      <td>0.29</td>\n",
       "      <td>0.43</td>\n",
       "      <td>167</td>\n",
       "      <td>85677</td>\n",
       "      <td>99107</td>\n",
       "    </tr>\n",
       "    <tr>\n",
       "      <th>1</th>\n",
       "      <td>2</td>\n",
       "      <td>Benesov</td>\n",
       "      <td>central Bohemia</td>\n",
       "      <td>88884</td>\n",
       "      <td>80</td>\n",
       "      <td>26</td>\n",
       "      <td>6</td>\n",
       "      <td>2</td>\n",
       "      <td>5</td>\n",
       "      <td>46.7</td>\n",
       "      <td>8507</td>\n",
       "      <td>1.67</td>\n",
       "      <td>1.85</td>\n",
       "      <td>132</td>\n",
       "      <td>2159</td>\n",
       "      <td>2674</td>\n",
       "    </tr>\n",
       "    <tr>\n",
       "      <th>2</th>\n",
       "      <td>3</td>\n",
       "      <td>Beroun</td>\n",
       "      <td>central Bohemia</td>\n",
       "      <td>75232</td>\n",
       "      <td>55</td>\n",
       "      <td>26</td>\n",
       "      <td>4</td>\n",
       "      <td>1</td>\n",
       "      <td>5</td>\n",
       "      <td>41.7</td>\n",
       "      <td>8980</td>\n",
       "      <td>1.95</td>\n",
       "      <td>2.21</td>\n",
       "      <td>111</td>\n",
       "      <td>2824</td>\n",
       "      <td>2813</td>\n",
       "    </tr>\n",
       "    <tr>\n",
       "      <th>3</th>\n",
       "      <td>4</td>\n",
       "      <td>Kladno</td>\n",
       "      <td>central Bohemia</td>\n",
       "      <td>149893</td>\n",
       "      <td>63</td>\n",
       "      <td>29</td>\n",
       "      <td>6</td>\n",
       "      <td>2</td>\n",
       "      <td>6</td>\n",
       "      <td>67.4</td>\n",
       "      <td>9753</td>\n",
       "      <td>4.64</td>\n",
       "      <td>5.05</td>\n",
       "      <td>109</td>\n",
       "      <td>5244</td>\n",
       "      <td>5892</td>\n",
       "    </tr>\n",
       "    <tr>\n",
       "      <th>4</th>\n",
       "      <td>5</td>\n",
       "      <td>Kolin</td>\n",
       "      <td>central Bohemia</td>\n",
       "      <td>95616</td>\n",
       "      <td>65</td>\n",
       "      <td>30</td>\n",
       "      <td>4</td>\n",
       "      <td>1</td>\n",
       "      <td>6</td>\n",
       "      <td>51.4</td>\n",
       "      <td>9307</td>\n",
       "      <td>3.85</td>\n",
       "      <td>4.43</td>\n",
       "      <td>118</td>\n",
       "      <td>2616</td>\n",
       "      <td>3040</td>\n",
       "    </tr>\n",
       "  </tbody>\n",
       "</table>\n",
       "</div>"
      ],
      "text/plain": [
       "   A1           A2               A3       A4  A5  A6  A7  A8  A9    A10  \\\n",
       "0   1  Hl.m. Praha           Prague  1204953   0   0   0   1   1  100.0   \n",
       "1   2      Benesov  central Bohemia    88884  80  26   6   2   5   46.7   \n",
       "2   3       Beroun  central Bohemia    75232  55  26   4   1   5   41.7   \n",
       "3   4       Kladno  central Bohemia   149893  63  29   6   2   6   67.4   \n",
       "4   5        Kolin  central Bohemia    95616  65  30   4   1   6   51.4   \n",
       "\n",
       "     A11   A12   A13  A14    A15    A16  \n",
       "0  12541  0.29  0.43  167  85677  99107  \n",
       "1   8507  1.67  1.85  132   2159   2674  \n",
       "2   8980  1.95  2.21  111   2824   2813  \n",
       "3   9753  4.64  5.05  109   5244   5892  \n",
       "4   9307  3.85  4.43  118   2616   3040  "
      ]
     },
     "execution_count": 17,
     "metadata": {},
     "output_type": "execute_result"
    }
   ],
   "source": [
    "# Visually explore data before any transformations, feature engineering, filtering, etc.\n",
    "district_df.head()"
   ]
  },
  {
   "cell_type": "code",
   "execution_count": 18,
   "metadata": {
    "cell_id": "f8b19151f4e54c2b8936205a8e28e2f9",
    "deepnote_cell_type": "code",
    "deepnote_to_be_reexecuted": false,
    "execution_millis": 385,
    "execution_start": 1718234601241,
    "source_hash": null
   },
   "outputs": [],
   "source": [
    "# Renaming variables for better a content description (based on data dictionary)\n",
    "district_df.rename(\n",
    "    columns={\n",
    "        \"A1\": \"District_code\",\n",
    "        \"A2\": \"District_name\",\n",
    "        \"A3\": \"Region\",\n",
    "        \"A4\": \"Number_of_inhabitants\",\n",
    "        \"A5\": \"Municipalities_lt_499\",\n",
    "        \"A6\": \"Municipalities_500_to_1999\",\n",
    "        \"A7\": \"Municipalities_2000_9999\",\n",
    "        \"A8\": \"Municipalities_gt_10000\",\n",
    "        \"A9\": \"Number_of_cities\",\n",
    "        \"A10\": \"Ratio_of_Urban_Inhabitants\",\n",
    "        \"A11\": \"Average_Salary\",\n",
    "        \"A12\": \"Unemployment_rate_1995\",\n",
    "        \"A13\": \"Unemployment_rate_1996\",\n",
    "        \"A14\": \"Number_of_entrepreneurs_per_1000\",\n",
    "        \"A15\": \"Number_of_crimes_1995\",\n",
    "        \"A16\": \"Number_of_crimes_1996\",\n",
    "    },\n",
    "    inplace=True,\n",
    ")"
   ]
  },
  {
   "cell_type": "code",
   "execution_count": 19,
   "metadata": {
    "cell_id": "6984e7a18cb04f4c9d9b6b736edab426",
    "deepnote_cell_type": "code",
    "deepnote_to_be_reexecuted": false,
    "execution_millis": 372,
    "execution_start": 1718234601254,
    "source_hash": null
   },
   "outputs": [
    {
     "data": {
      "text/html": [
       "<div>\n",
       "<style scoped>\n",
       "    .dataframe tbody tr th:only-of-type {\n",
       "        vertical-align: middle;\n",
       "    }\n",
       "\n",
       "    .dataframe tbody tr th {\n",
       "        vertical-align: top;\n",
       "    }\n",
       "\n",
       "    .dataframe thead th {\n",
       "        text-align: right;\n",
       "    }\n",
       "</style>\n",
       "<table border=\"1\" class=\"dataframe\">\n",
       "  <thead>\n",
       "    <tr style=\"text-align: right;\">\n",
       "      <th></th>\n",
       "      <th>District_code</th>\n",
       "      <th>District_name</th>\n",
       "      <th>Region</th>\n",
       "      <th>Number_of_inhabitants</th>\n",
       "      <th>Municipalities_lt_499</th>\n",
       "      <th>Municipalities_500_to_1999</th>\n",
       "      <th>Municipalities_2000_9999</th>\n",
       "      <th>Municipalities_gt_10000</th>\n",
       "      <th>Number_of_cities</th>\n",
       "      <th>Ratio_of_Urban_Inhabitants</th>\n",
       "      <th>Average_Salary</th>\n",
       "      <th>Unemployment_rate_1995</th>\n",
       "      <th>Unemployment_rate_1996</th>\n",
       "      <th>Number_of_entrepreneurs_per_1000</th>\n",
       "      <th>Number_of_crimes_1995</th>\n",
       "      <th>Number_of_crimes_1996</th>\n",
       "    </tr>\n",
       "  </thead>\n",
       "  <tbody>\n",
       "    <tr>\n",
       "      <th>0</th>\n",
       "      <td>1</td>\n",
       "      <td>Hl.m. Praha</td>\n",
       "      <td>Prague</td>\n",
       "      <td>1204953</td>\n",
       "      <td>0</td>\n",
       "      <td>0</td>\n",
       "      <td>0</td>\n",
       "      <td>1</td>\n",
       "      <td>1</td>\n",
       "      <td>100.0</td>\n",
       "      <td>12541</td>\n",
       "      <td>0.29</td>\n",
       "      <td>0.43</td>\n",
       "      <td>167</td>\n",
       "      <td>85677</td>\n",
       "      <td>99107</td>\n",
       "    </tr>\n",
       "    <tr>\n",
       "      <th>1</th>\n",
       "      <td>2</td>\n",
       "      <td>Benesov</td>\n",
       "      <td>central Bohemia</td>\n",
       "      <td>88884</td>\n",
       "      <td>80</td>\n",
       "      <td>26</td>\n",
       "      <td>6</td>\n",
       "      <td>2</td>\n",
       "      <td>5</td>\n",
       "      <td>46.7</td>\n",
       "      <td>8507</td>\n",
       "      <td>1.67</td>\n",
       "      <td>1.85</td>\n",
       "      <td>132</td>\n",
       "      <td>2159</td>\n",
       "      <td>2674</td>\n",
       "    </tr>\n",
       "  </tbody>\n",
       "</table>\n",
       "</div>"
      ],
      "text/plain": [
       "   District_code District_name           Region  Number_of_inhabitants  \\\n",
       "0              1   Hl.m. Praha           Prague                1204953   \n",
       "1              2       Benesov  central Bohemia                  88884   \n",
       "\n",
       "   Municipalities_lt_499  Municipalities_500_to_1999  \\\n",
       "0                      0                           0   \n",
       "1                     80                          26   \n",
       "\n",
       "   Municipalities_2000_9999  Municipalities_gt_10000  Number_of_cities  \\\n",
       "0                         0                        1                 1   \n",
       "1                         6                        2                 5   \n",
       "\n",
       "   Ratio_of_Urban_Inhabitants  Average_Salary Unemployment_rate_1995  \\\n",
       "0                       100.0           12541                   0.29   \n",
       "1                        46.7            8507                   1.67   \n",
       "\n",
       "   Unemployment_rate_1996  Number_of_entrepreneurs_per_1000  \\\n",
       "0                    0.43                               167   \n",
       "1                    1.85                               132   \n",
       "\n",
       "  Number_of_crimes_1995  Number_of_crimes_1996  \n",
       "0                 85677                  99107  \n",
       "1                  2159                   2674  "
      ]
     },
     "execution_count": 19,
     "metadata": {},
     "output_type": "execute_result"
    }
   ],
   "source": [
    "# Visually inspect results from renaming\n",
    "district_df.head(2)"
   ]
  },
  {
   "cell_type": "markdown",
   "metadata": {
    "cell_id": "bc9d00f627a44319b8e3eaf7f21fe82d",
    "deepnote_cell_type": "text-cell-h1",
    "formattedRanges": []
   },
   "source": [
    "# Explore Loans"
   ]
  },
  {
   "cell_type": "code",
   "execution_count": 20,
   "metadata": {
    "cell_id": "d56f8064126945cea3f3c664cac4d5fc",
    "deepnote_cell_type": "code",
    "deepnote_to_be_reexecuted": false,
    "execution_millis": 325,
    "execution_start": 1718234601302,
    "source_hash": null
   },
   "outputs": [
    {
     "data": {
      "text/html": [
       "<div>\n",
       "<style scoped>\n",
       "    .dataframe tbody tr th:only-of-type {\n",
       "        vertical-align: middle;\n",
       "    }\n",
       "\n",
       "    .dataframe tbody tr th {\n",
       "        vertical-align: top;\n",
       "    }\n",
       "\n",
       "    .dataframe thead th {\n",
       "        text-align: right;\n",
       "    }\n",
       "</style>\n",
       "<table border=\"1\" class=\"dataframe\">\n",
       "  <thead>\n",
       "    <tr style=\"text-align: right;\">\n",
       "      <th></th>\n",
       "      <th>loan_id</th>\n",
       "      <th>account_id</th>\n",
       "      <th>date</th>\n",
       "      <th>amount</th>\n",
       "      <th>duration</th>\n",
       "      <th>payments</th>\n",
       "      <th>status</th>\n",
       "    </tr>\n",
       "  </thead>\n",
       "  <tbody>\n",
       "    <tr>\n",
       "      <th>0</th>\n",
       "      <td>5314</td>\n",
       "      <td>1787</td>\n",
       "      <td>930705</td>\n",
       "      <td>96396</td>\n",
       "      <td>12</td>\n",
       "      <td>8033.0</td>\n",
       "      <td>B</td>\n",
       "    </tr>\n",
       "    <tr>\n",
       "      <th>1</th>\n",
       "      <td>5316</td>\n",
       "      <td>1801</td>\n",
       "      <td>930711</td>\n",
       "      <td>165960</td>\n",
       "      <td>36</td>\n",
       "      <td>4610.0</td>\n",
       "      <td>A</td>\n",
       "    </tr>\n",
       "    <tr>\n",
       "      <th>2</th>\n",
       "      <td>6863</td>\n",
       "      <td>9188</td>\n",
       "      <td>930728</td>\n",
       "      <td>127080</td>\n",
       "      <td>60</td>\n",
       "      <td>2118.0</td>\n",
       "      <td>A</td>\n",
       "    </tr>\n",
       "    <tr>\n",
       "      <th>3</th>\n",
       "      <td>5325</td>\n",
       "      <td>1843</td>\n",
       "      <td>930803</td>\n",
       "      <td>105804</td>\n",
       "      <td>36</td>\n",
       "      <td>2939.0</td>\n",
       "      <td>A</td>\n",
       "    </tr>\n",
       "    <tr>\n",
       "      <th>4</th>\n",
       "      <td>7240</td>\n",
       "      <td>11013</td>\n",
       "      <td>930906</td>\n",
       "      <td>274740</td>\n",
       "      <td>60</td>\n",
       "      <td>4579.0</td>\n",
       "      <td>A</td>\n",
       "    </tr>\n",
       "  </tbody>\n",
       "</table>\n",
       "</div>"
      ],
      "text/plain": [
       "   loan_id  account_id    date  amount  duration  payments status\n",
       "0     5314        1787  930705   96396        12    8033.0      B\n",
       "1     5316        1801  930711  165960        36    4610.0      A\n",
       "2     6863        9188  930728  127080        60    2118.0      A\n",
       "3     5325        1843  930803  105804        36    2939.0      A\n",
       "4     7240       11013  930906  274740        60    4579.0      A"
      ]
     },
     "execution_count": 20,
     "metadata": {},
     "output_type": "execute_result"
    }
   ],
   "source": [
    "# Visually explore data before any transformations, feature engineering, filtering, etc.\n",
    "loan_df.head()"
   ]
  },
  {
   "cell_type": "code",
   "execution_count": 21,
   "metadata": {
    "cell_id": "ed3bdf5c9982420998018a2657dcce17",
    "deepnote_cell_type": "code",
    "deepnote_to_be_reexecuted": false,
    "execution_millis": 301,
    "execution_start": 1718234601326,
    "source_hash": null
   },
   "outputs": [
    {
     "data": {
      "text/plain": [
       "C    403\n",
       "A    203\n",
       "D     45\n",
       "B     31\n",
       "Name: status, dtype: int64"
      ]
     },
     "execution_count": 21,
     "metadata": {},
     "output_type": "execute_result"
    }
   ],
   "source": [
    "# Transform loan date to datetime64\n",
    "loan_df = format_date(df=loan_df, date_column=\"date\")\n",
    "\n",
    "# Explore loan statuses to understand the population available for the anaylsis and default volume\n",
    "loan_df[\"status\"].value_counts()\n",
    "# 'A' stands for contract finished, no problems\n",
    "# 'B' stands for contract finished, loan not payed\n",
    "# 'C' stands for running contract, OK so far\n",
    "# 'D' stands for running contract, client in debt"
   ]
  },
  {
   "cell_type": "code",
   "execution_count": 22,
   "metadata": {
    "cell_id": "9882c346e89249b2a9e9cce6af5ecd9c",
    "deepnote_cell_type": "code",
    "deepnote_to_be_reexecuted": false,
    "execution_millis": 276,
    "execution_start": 1718234601352,
    "source_hash": null
   },
   "outputs": [
    {
     "data": {
      "text/html": [
       "<div>\n",
       "<style scoped>\n",
       "    .dataframe tbody tr th:only-of-type {\n",
       "        vertical-align: middle;\n",
       "    }\n",
       "\n",
       "    .dataframe tbody tr th {\n",
       "        vertical-align: top;\n",
       "    }\n",
       "\n",
       "    .dataframe thead th {\n",
       "        text-align: right;\n",
       "    }\n",
       "</style>\n",
       "<table border=\"1\" class=\"dataframe\">\n",
       "  <thead>\n",
       "    <tr style=\"text-align: right;\">\n",
       "      <th></th>\n",
       "      <th>loan_id</th>\n",
       "      <th>account_id</th>\n",
       "      <th>date</th>\n",
       "      <th>amount</th>\n",
       "      <th>duration</th>\n",
       "      <th>payments</th>\n",
       "      <th>status</th>\n",
       "      <th>date_formatted</th>\n",
       "      <th>default_or_likely_default</th>\n",
       "    </tr>\n",
       "  </thead>\n",
       "  <tbody>\n",
       "    <tr>\n",
       "      <th>0</th>\n",
       "      <td>5314</td>\n",
       "      <td>1787</td>\n",
       "      <td>930705</td>\n",
       "      <td>96396</td>\n",
       "      <td>12</td>\n",
       "      <td>8033.0</td>\n",
       "      <td>B</td>\n",
       "      <td>1993-07-05</td>\n",
       "      <td>True</td>\n",
       "    </tr>\n",
       "    <tr>\n",
       "      <th>1</th>\n",
       "      <td>5316</td>\n",
       "      <td>1801</td>\n",
       "      <td>930711</td>\n",
       "      <td>165960</td>\n",
       "      <td>36</td>\n",
       "      <td>4610.0</td>\n",
       "      <td>A</td>\n",
       "      <td>1993-07-11</td>\n",
       "      <td>False</td>\n",
       "    </tr>\n",
       "    <tr>\n",
       "      <th>2</th>\n",
       "      <td>6863</td>\n",
       "      <td>9188</td>\n",
       "      <td>930728</td>\n",
       "      <td>127080</td>\n",
       "      <td>60</td>\n",
       "      <td>2118.0</td>\n",
       "      <td>A</td>\n",
       "      <td>1993-07-28</td>\n",
       "      <td>False</td>\n",
       "    </tr>\n",
       "    <tr>\n",
       "      <th>3</th>\n",
       "      <td>5325</td>\n",
       "      <td>1843</td>\n",
       "      <td>930803</td>\n",
       "      <td>105804</td>\n",
       "      <td>36</td>\n",
       "      <td>2939.0</td>\n",
       "      <td>A</td>\n",
       "      <td>1993-08-03</td>\n",
       "      <td>False</td>\n",
       "    </tr>\n",
       "    <tr>\n",
       "      <th>4</th>\n",
       "      <td>7240</td>\n",
       "      <td>11013</td>\n",
       "      <td>930906</td>\n",
       "      <td>274740</td>\n",
       "      <td>60</td>\n",
       "      <td>4579.0</td>\n",
       "      <td>A</td>\n",
       "      <td>1993-09-06</td>\n",
       "      <td>False</td>\n",
       "    </tr>\n",
       "  </tbody>\n",
       "</table>\n",
       "</div>"
      ],
      "text/plain": [
       "   loan_id  account_id    date  amount  duration  payments status  \\\n",
       "0     5314        1787  930705   96396        12    8033.0      B   \n",
       "1     5316        1801  930711  165960        36    4610.0      A   \n",
       "2     6863        9188  930728  127080        60    2118.0      A   \n",
       "3     5325        1843  930803  105804        36    2939.0      A   \n",
       "4     7240       11013  930906  274740        60    4579.0      A   \n",
       "\n",
       "  date_formatted  default_or_likely_default  \n",
       "0     1993-07-05                       True  \n",
       "1     1993-07-11                      False  \n",
       "2     1993-07-28                      False  \n",
       "3     1993-08-03                      False  \n",
       "4     1993-09-06                      False  "
      ]
     },
     "execution_count": 22,
     "metadata": {},
     "output_type": "execute_result"
    }
   ],
   "source": [
    "# Create the variable that defines default. True= Default\n",
    "# IMPORTANT: Total # of loans is 682 out of which 76 defaulted (11.14%)\n",
    "loan_df[\"default_or_likely_default\"] = loan_df[\"status\"].isin([\"D\", \"B\"])\n",
    "\n",
    "# Explore results\n",
    "loan_df.head()"
   ]
  },
  {
   "cell_type": "markdown",
   "metadata": {
    "cell_id": "1bc7dba45ab2440a89e725dd82c1efe6",
    "deepnote_cell_type": "text-cell-h1",
    "formattedRanges": []
   },
   "source": [
    "# Explore Orders"
   ]
  },
  {
   "cell_type": "code",
   "execution_count": 23,
   "metadata": {
    "cell_id": "3138c5de8c404cf1b5e0821ca1defeff",
    "deepnote_cell_type": "code",
    "deepnote_to_be_reexecuted": false,
    "execution_millis": 566,
    "execution_start": 1718234601396,
    "source_hash": null
   },
   "outputs": [
    {
     "data": {
      "text/html": [
       "<div>\n",
       "<style scoped>\n",
       "    .dataframe tbody tr th:only-of-type {\n",
       "        vertical-align: middle;\n",
       "    }\n",
       "\n",
       "    .dataframe tbody tr th {\n",
       "        vertical-align: top;\n",
       "    }\n",
       "\n",
       "    .dataframe thead th {\n",
       "        text-align: right;\n",
       "    }\n",
       "</style>\n",
       "<table border=\"1\" class=\"dataframe\">\n",
       "  <thead>\n",
       "    <tr style=\"text-align: right;\">\n",
       "      <th></th>\n",
       "      <th>order_id</th>\n",
       "      <th>account_id</th>\n",
       "      <th>bank_to</th>\n",
       "      <th>account_to</th>\n",
       "      <th>amount</th>\n",
       "      <th>k_symbol</th>\n",
       "    </tr>\n",
       "  </thead>\n",
       "  <tbody>\n",
       "    <tr>\n",
       "      <th>0</th>\n",
       "      <td>29401</td>\n",
       "      <td>1</td>\n",
       "      <td>YZ</td>\n",
       "      <td>87144583</td>\n",
       "      <td>2452.0</td>\n",
       "      <td>SIPO</td>\n",
       "    </tr>\n",
       "    <tr>\n",
       "      <th>1</th>\n",
       "      <td>29402</td>\n",
       "      <td>2</td>\n",
       "      <td>ST</td>\n",
       "      <td>89597016</td>\n",
       "      <td>3372.7</td>\n",
       "      <td>UVER</td>\n",
       "    </tr>\n",
       "    <tr>\n",
       "      <th>2</th>\n",
       "      <td>29403</td>\n",
       "      <td>2</td>\n",
       "      <td>QR</td>\n",
       "      <td>13943797</td>\n",
       "      <td>7266.0</td>\n",
       "      <td>SIPO</td>\n",
       "    </tr>\n",
       "    <tr>\n",
       "      <th>3</th>\n",
       "      <td>29404</td>\n",
       "      <td>3</td>\n",
       "      <td>WX</td>\n",
       "      <td>83084338</td>\n",
       "      <td>1135.0</td>\n",
       "      <td>SIPO</td>\n",
       "    </tr>\n",
       "    <tr>\n",
       "      <th>4</th>\n",
       "      <td>29405</td>\n",
       "      <td>3</td>\n",
       "      <td>CD</td>\n",
       "      <td>24485939</td>\n",
       "      <td>327.0</td>\n",
       "      <td></td>\n",
       "    </tr>\n",
       "  </tbody>\n",
       "</table>\n",
       "</div>"
      ],
      "text/plain": [
       "   order_id  account_id bank_to  account_to  amount k_symbol\n",
       "0     29401           1      YZ    87144583  2452.0     SIPO\n",
       "1     29402           2      ST    89597016  3372.7     UVER\n",
       "2     29403           2      QR    13943797  7266.0     SIPO\n",
       "3     29404           3      WX    83084338  1135.0     SIPO\n",
       "4     29405           3      CD    24485939   327.0         "
      ]
     },
     "execution_count": 23,
     "metadata": {},
     "output_type": "execute_result"
    }
   ],
   "source": [
    "# Visually explore data before any transformations, feature engineering, filtering, etc.\n",
    "# Orders contain transfers to other accounts/banks from the customer account. Can be own loans\n",
    "order_df.head()"
   ]
  },
  {
   "cell_type": "code",
   "execution_count": 24,
   "metadata": {
    "cell_id": "cde2fc0e1cc341ad912ae461ef19d321",
    "deepnote_cell_type": "code",
    "deepnote_to_be_reexecuted": false,
    "execution_millis": 533,
    "execution_start": 1718234601429,
    "source_hash": null
   },
   "outputs": [
    {
     "data": {
      "text/plain": [
       "SIPO        3502\n",
       "            1379\n",
       "UVER         717\n",
       "POJISTNE     532\n",
       "LEASING      341\n",
       "Name: k_symbol, dtype: int64"
      ]
     },
     "execution_count": 24,
     "metadata": {},
     "output_type": "execute_result"
    }
   ],
   "source": [
    "# Undestand the types of transfer for potential new features\n",
    "order_df[\"k_symbol\"].value_counts()\n",
    "# 'POJISTNE' stands for insurance payment\n",
    "# 'SIPO'     stands for household payment\n",
    "# 'LEASING'  stands for leasing\n",
    "# 'UVER'     stands for loan payment\n",
    "# ''"
   ]
  },
  {
   "cell_type": "code",
   "execution_count": 25,
   "metadata": {
    "cell_id": "b30eaf556a644ce584ba517deaf19d58",
    "deepnote_cell_type": "code",
    "deepnote_to_be_reexecuted": false,
    "execution_millis": 532,
    "execution_start": 1718234601430,
    "source_hash": null
   },
   "outputs": [
    {
     "data": {
      "text/html": [
       "<div>\n",
       "<style scoped>\n",
       "    .dataframe tbody tr th:only-of-type {\n",
       "        vertical-align: middle;\n",
       "    }\n",
       "\n",
       "    .dataframe tbody tr th {\n",
       "        vertical-align: top;\n",
       "    }\n",
       "\n",
       "    .dataframe thead th {\n",
       "        text-align: right;\n",
       "    }\n",
       "</style>\n",
       "<table border=\"1\" class=\"dataframe\">\n",
       "  <thead>\n",
       "    <tr style=\"text-align: right;\">\n",
       "      <th></th>\n",
       "      <th>account_id</th>\n",
       "      <th>sum_of_loan_payments</th>\n",
       "    </tr>\n",
       "  </thead>\n",
       "  <tbody>\n",
       "    <tr>\n",
       "      <th>0</th>\n",
       "      <td>2</td>\n",
       "      <td>3372.7</td>\n",
       "    </tr>\n",
       "    <tr>\n",
       "      <th>1</th>\n",
       "      <td>19</td>\n",
       "      <td>2523.2</td>\n",
       "    </tr>\n",
       "    <tr>\n",
       "      <th>2</th>\n",
       "      <td>25</td>\n",
       "      <td>2523.2</td>\n",
       "    </tr>\n",
       "  </tbody>\n",
       "</table>\n",
       "</div>"
      ],
      "text/plain": [
       "   account_id  sum_of_loan_payments\n",
       "0           2                3372.7\n",
       "1          19                2523.2\n",
       "2          25                2523.2"
      ]
     },
     "execution_count": 25,
     "metadata": {},
     "output_type": "execute_result"
    }
   ],
   "source": [
    "# Subset just order that are loan payments\n",
    "loan_payments_df = order_df[(order_df[\"k_symbol\"] == \"UVER\")]\n",
    "\n",
    "# Feature engineering - sum up all loan payments by account\n",
    "loan_payments_by_account_df = (\n",
    "    loan_payments_df[[\"account_id\", \"amount\"]].groupby(\"account_id\").sum().reset_index()\n",
    ")\n",
    "loan_payments_by_account_df.rename(\n",
    "    columns={\"amount\": \"sum_of_loan_payments\"}, inplace=True\n",
    ")\n",
    "\n",
    "# Explore results. Not all accounts have loans and not all accounts with loans have registered payments\n",
    "loan_payments_by_account_df.head(3)"
   ]
  },
  {
   "cell_type": "markdown",
   "metadata": {
    "cell_id": "6ef68f4e86cc4522a9fe051e316fc00e",
    "deepnote_cell_type": "text-cell-h1",
    "formattedRanges": []
   },
   "source": [
    "# Explore Transactions"
   ]
  },
  {
   "cell_type": "code",
   "execution_count": 26,
   "metadata": {
    "cell_id": "26005dd7f550482b87bd627db3b45737",
    "deepnote_cell_type": "code",
    "deepnote_to_be_reexecuted": false,
    "execution_millis": 510,
    "execution_start": 1718234601453,
    "source_hash": null
   },
   "outputs": [
    {
     "data": {
      "text/html": [
       "<div>\n",
       "<style scoped>\n",
       "    .dataframe tbody tr th:only-of-type {\n",
       "        vertical-align: middle;\n",
       "    }\n",
       "\n",
       "    .dataframe tbody tr th {\n",
       "        vertical-align: top;\n",
       "    }\n",
       "\n",
       "    .dataframe thead th {\n",
       "        text-align: right;\n",
       "    }\n",
       "</style>\n",
       "<table border=\"1\" class=\"dataframe\">\n",
       "  <thead>\n",
       "    <tr style=\"text-align: right;\">\n",
       "      <th></th>\n",
       "      <th>trans_id</th>\n",
       "      <th>account_id</th>\n",
       "      <th>date</th>\n",
       "      <th>type</th>\n",
       "      <th>operation</th>\n",
       "      <th>amount</th>\n",
       "      <th>balance</th>\n",
       "      <th>k_symbol</th>\n",
       "      <th>bank</th>\n",
       "      <th>account</th>\n",
       "    </tr>\n",
       "  </thead>\n",
       "  <tbody>\n",
       "    <tr>\n",
       "      <th>0</th>\n",
       "      <td>695247</td>\n",
       "      <td>2378</td>\n",
       "      <td>930101</td>\n",
       "      <td>PRIJEM</td>\n",
       "      <td>VKLAD</td>\n",
       "      <td>700.0</td>\n",
       "      <td>700.0</td>\n",
       "      <td>NaN</td>\n",
       "      <td>NaN</td>\n",
       "      <td>NaN</td>\n",
       "    </tr>\n",
       "    <tr>\n",
       "      <th>1</th>\n",
       "      <td>171812</td>\n",
       "      <td>576</td>\n",
       "      <td>930101</td>\n",
       "      <td>PRIJEM</td>\n",
       "      <td>VKLAD</td>\n",
       "      <td>900.0</td>\n",
       "      <td>900.0</td>\n",
       "      <td>NaN</td>\n",
       "      <td>NaN</td>\n",
       "      <td>NaN</td>\n",
       "    </tr>\n",
       "    <tr>\n",
       "      <th>2</th>\n",
       "      <td>207264</td>\n",
       "      <td>704</td>\n",
       "      <td>930101</td>\n",
       "      <td>PRIJEM</td>\n",
       "      <td>VKLAD</td>\n",
       "      <td>1000.0</td>\n",
       "      <td>1000.0</td>\n",
       "      <td>NaN</td>\n",
       "      <td>NaN</td>\n",
       "      <td>NaN</td>\n",
       "    </tr>\n",
       "    <tr>\n",
       "      <th>3</th>\n",
       "      <td>1117247</td>\n",
       "      <td>3818</td>\n",
       "      <td>930101</td>\n",
       "      <td>PRIJEM</td>\n",
       "      <td>VKLAD</td>\n",
       "      <td>600.0</td>\n",
       "      <td>600.0</td>\n",
       "      <td>NaN</td>\n",
       "      <td>NaN</td>\n",
       "      <td>NaN</td>\n",
       "    </tr>\n",
       "    <tr>\n",
       "      <th>4</th>\n",
       "      <td>579373</td>\n",
       "      <td>1972</td>\n",
       "      <td>930102</td>\n",
       "      <td>PRIJEM</td>\n",
       "      <td>VKLAD</td>\n",
       "      <td>400.0</td>\n",
       "      <td>400.0</td>\n",
       "      <td>NaN</td>\n",
       "      <td>NaN</td>\n",
       "      <td>NaN</td>\n",
       "    </tr>\n",
       "  </tbody>\n",
       "</table>\n",
       "</div>"
      ],
      "text/plain": [
       "   trans_id  account_id    date    type operation  amount  balance k_symbol  \\\n",
       "0    695247        2378  930101  PRIJEM     VKLAD   700.0    700.0      NaN   \n",
       "1    171812         576  930101  PRIJEM     VKLAD   900.0    900.0      NaN   \n",
       "2    207264         704  930101  PRIJEM     VKLAD  1000.0   1000.0      NaN   \n",
       "3   1117247        3818  930101  PRIJEM     VKLAD   600.0    600.0      NaN   \n",
       "4    579373        1972  930102  PRIJEM     VKLAD   400.0    400.0      NaN   \n",
       "\n",
       "  bank  account  \n",
       "0  NaN      NaN  \n",
       "1  NaN      NaN  \n",
       "2  NaN      NaN  \n",
       "3  NaN      NaN  \n",
       "4  NaN      NaN  "
      ]
     },
     "execution_count": 26,
     "metadata": {},
     "output_type": "execute_result"
    }
   ],
   "source": [
    "# Visually explore data before any transformations, feature engineering, filtering, etc.\n",
    "trans_df.head()"
   ]
  },
  {
   "cell_type": "code",
   "execution_count": 27,
   "metadata": {
    "cell_id": "96d96615130e4b99b1e87121953ff221",
    "deepnote_cell_type": "code",
    "deepnote_to_be_reexecuted": false,
    "execution_millis": 2075,
    "execution_start": 1718234601460,
    "source_hash": null
   },
   "outputs": [
    {
     "data": {
      "text/html": [
       "<div>\n",
       "<style scoped>\n",
       "    .dataframe tbody tr th:only-of-type {\n",
       "        vertical-align: middle;\n",
       "    }\n",
       "\n",
       "    .dataframe tbody tr th {\n",
       "        vertical-align: top;\n",
       "    }\n",
       "\n",
       "    .dataframe thead th {\n",
       "        text-align: right;\n",
       "    }\n",
       "</style>\n",
       "<table border=\"1\" class=\"dataframe\">\n",
       "  <thead>\n",
       "    <tr style=\"text-align: right;\">\n",
       "      <th></th>\n",
       "      <th>account_id</th>\n",
       "      <th>count_transactions</th>\n",
       "      <th>count_withdrawals</th>\n",
       "      <th>max_withdrawal</th>\n",
       "    </tr>\n",
       "  </thead>\n",
       "  <tbody>\n",
       "    <tr>\n",
       "      <th>0</th>\n",
       "      <td>1</td>\n",
       "      <td>239</td>\n",
       "      <td>137</td>\n",
       "      <td>7500.0</td>\n",
       "    </tr>\n",
       "    <tr>\n",
       "      <th>1</th>\n",
       "      <td>2</td>\n",
       "      <td>478</td>\n",
       "      <td>305</td>\n",
       "      <td>42000.0</td>\n",
       "    </tr>\n",
       "    <tr>\n",
       "      <th>2</th>\n",
       "      <td>3</td>\n",
       "      <td>117</td>\n",
       "      <td>71</td>\n",
       "      <td>7400.0</td>\n",
       "    </tr>\n",
       "    <tr>\n",
       "      <th>3</th>\n",
       "      <td>4</td>\n",
       "      <td>186</td>\n",
       "      <td>121</td>\n",
       "      <td>5250.0</td>\n",
       "    </tr>\n",
       "    <tr>\n",
       "      <th>4</th>\n",
       "      <td>5</td>\n",
       "      <td>84</td>\n",
       "      <td>49</td>\n",
       "      <td>5100.0</td>\n",
       "    </tr>\n",
       "  </tbody>\n",
       "</table>\n",
       "</div>"
      ],
      "text/plain": [
       "   account_id  count_transactions  count_withdrawals  max_withdrawal\n",
       "0           1                 239                137          7500.0\n",
       "1           2                 478                305         42000.0\n",
       "2           3                 117                 71          7400.0\n",
       "3           4                 186                121          5250.0\n",
       "4           5                  84                 49          5100.0"
      ]
     },
     "execution_count": 27,
     "metadata": {},
     "output_type": "execute_result"
    }
   ],
   "source": [
    "# Transform transactions date to datetime64\n",
    "trans_df = format_date(df=trans_df, date_column=\"date\")\n",
    "\n",
    "# Feature engineering - count up the number of all transactions by account\n",
    "trans_counts_by_account_df = (\n",
    "    trans_df[[\"account_id\", \"amount\"]].groupby(\"account_id\").count().reset_index()\n",
    ")\n",
    "trans_counts_by_account_df.rename(\n",
    "    columns={\"amount\": \"count_transactions\"}, inplace=True\n",
    ")\n",
    "\n",
    "# Subset just transactions that are withdrawals\n",
    "trans_withdrawal_df = trans_df[(trans_df[\"type\"] == \"VYDAJ\")]\n",
    "\n",
    "# Feature engineering - count withdrawals\n",
    "trans_count_withdrawal_df = (\n",
    "    trans_withdrawal_df[[\"account_id\", \"amount\"]]\n",
    "    .groupby(\"account_id\")\n",
    "    .count()\n",
    "    .reset_index()\n",
    ")\n",
    "trans_count_withdrawal_df.rename(columns={\"amount\": \"count_withdrawals\"}, inplace=True)\n",
    "\n",
    "# Feature engineering - max withdrawals\n",
    "trans_max_withdrawal_df = (\n",
    "    trans_withdrawal_df[[\"account_id\", \"amount\"]]\n",
    "    .groupby(\"account_id\")\n",
    "    .max()\n",
    "    .reset_index()\n",
    ")\n",
    "trans_max_withdrawal_df.rename(columns={\"amount\": \"max_withdrawal\"}, inplace=True)\n",
    "\n",
    "# Aggregating the three features by account_id Summarize transactions\n",
    "trans_summary_df = trans_counts_by_account_df.merge(\n",
    "    trans_count_withdrawal_df, on=\"account_id\", how=\"left\"\n",
    ").merge(trans_max_withdrawal_df, on=\"account_id\", how=\"left\")\n",
    "trans_summary_df.head()"
   ]
  },
  {
   "cell_type": "markdown",
   "metadata": {
    "cell_id": "7b985efdeaa148f5bc82acbe1d7ae703",
    "deepnote_cell_type": "text-cell-h1",
    "formattedRanges": []
   },
   "source": [
    "# Explore Secondary Dataset (with inflation)"
   ]
  },
  {
   "cell_type": "code",
   "execution_count": 28,
   "metadata": {
    "cell_id": "a113f78c735b4065a49f68b2eef38d88",
    "deepnote_cell_type": "code",
    "deepnote_to_be_reexecuted": false,
    "execution_millis": 355,
    "execution_start": 1718234603571,
    "source_hash": null
   },
   "outputs": [
    {
     "data": {
      "text/html": [
       "<div>\n",
       "<style scoped>\n",
       "    .dataframe tbody tr th:only-of-type {\n",
       "        vertical-align: middle;\n",
       "    }\n",
       "\n",
       "    .dataframe tbody tr th {\n",
       "        vertical-align: top;\n",
       "    }\n",
       "\n",
       "    .dataframe thead th {\n",
       "        text-align: right;\n",
       "    }\n",
       "</style>\n",
       "<table border=\"1\" class=\"dataframe\">\n",
       "  <thead>\n",
       "    <tr style=\"text-align: right;\">\n",
       "      <th></th>\n",
       "      <th>Year</th>\n",
       "      <th>Inflation Rate (%)</th>\n",
       "      <th>Annual Change</th>\n",
       "    </tr>\n",
       "  </thead>\n",
       "  <tbody>\n",
       "    <tr>\n",
       "      <th>0</th>\n",
       "      <td>2022</td>\n",
       "      <td>15.10%</td>\n",
       "      <td>11.26%</td>\n",
       "    </tr>\n",
       "    <tr>\n",
       "      <th>1</th>\n",
       "      <td>2021</td>\n",
       "      <td>3.84%</td>\n",
       "      <td>0.68%</td>\n",
       "    </tr>\n",
       "    <tr>\n",
       "      <th>2</th>\n",
       "      <td>2020</td>\n",
       "      <td>3.16%</td>\n",
       "      <td>0.31%</td>\n",
       "    </tr>\n",
       "  </tbody>\n",
       "</table>\n",
       "</div>"
      ],
      "text/plain": [
       "   Year Inflation Rate (%) Annual Change\n",
       "0  2022             15.10%        11.26%\n",
       "1  2021              3.84%         0.68%\n",
       "2  2020              3.16%         0.31%"
      ]
     },
     "execution_count": 28,
     "metadata": {},
     "output_type": "execute_result"
    }
   ],
   "source": [
    "# Visually explore data before any transformations, feature engineering, filtering, etc.\n",
    "secondary_df.head(3)"
   ]
  },
  {
   "cell_type": "code",
   "execution_count": 29,
   "metadata": {
    "cell_id": "71ff84c886fa434aab73c8bd141bb310",
    "deepnote_cell_type": "code",
    "deepnote_to_be_reexecuted": false,
    "execution_millis": 355,
    "execution_start": 1718234603572,
    "source_hash": null
   },
   "outputs": [
    {
     "data": {
      "text/html": [
       "<div>\n",
       "<style scoped>\n",
       "    .dataframe tbody tr th:only-of-type {\n",
       "        vertical-align: middle;\n",
       "    }\n",
       "\n",
       "    .dataframe tbody tr th {\n",
       "        vertical-align: top;\n",
       "    }\n",
       "\n",
       "    .dataframe thead th {\n",
       "        text-align: right;\n",
       "    }\n",
       "</style>\n",
       "<table border=\"1\" class=\"dataframe\">\n",
       "  <thead>\n",
       "    <tr style=\"text-align: right;\">\n",
       "      <th></th>\n",
       "      <th>secondary_Year_id</th>\n",
       "      <th>Inflation_rate</th>\n",
       "      <th>Inflation_rate_lag12months</th>\n",
       "    </tr>\n",
       "  </thead>\n",
       "  <tbody>\n",
       "    <tr>\n",
       "      <th>4</th>\n",
       "      <td>2018</td>\n",
       "      <td>2.15</td>\n",
       "      <td>2.45</td>\n",
       "    </tr>\n",
       "    <tr>\n",
       "      <th>3</th>\n",
       "      <td>2019</td>\n",
       "      <td>2.85</td>\n",
       "      <td>2.15</td>\n",
       "    </tr>\n",
       "    <tr>\n",
       "      <th>2</th>\n",
       "      <td>2020</td>\n",
       "      <td>3.16</td>\n",
       "      <td>2.85</td>\n",
       "    </tr>\n",
       "    <tr>\n",
       "      <th>1</th>\n",
       "      <td>2021</td>\n",
       "      <td>3.84</td>\n",
       "      <td>3.16</td>\n",
       "    </tr>\n",
       "    <tr>\n",
       "      <th>0</th>\n",
       "      <td>2022</td>\n",
       "      <td>15.10</td>\n",
       "      <td>3.84</td>\n",
       "    </tr>\n",
       "  </tbody>\n",
       "</table>\n",
       "</div>"
      ],
      "text/plain": [
       "   secondary_Year_id  Inflation_rate  Inflation_rate_lag12months\n",
       "4               2018            2.15                        2.45\n",
       "3               2019            2.85                        2.15\n",
       "2               2020            3.16                        2.85\n",
       "1               2021            3.84                        3.16\n",
       "0               2022           15.10                        3.84"
      ]
     },
     "execution_count": 29,
     "metadata": {},
     "output_type": "execute_result"
    }
   ],
   "source": [
    "# Need to transform inflation rate to float(first clean % sign), then sort by Year so that the lag\n",
    "# is created properly. Drop 'Annual Change' and rename columns to be used and merged. 'Year' will be the key\n",
    "\n",
    "# changing 'Inflation Rate (%)' dtype to float64\n",
    "secondary_df[\"Inflation Rate (%)\"] = (\n",
    "    secondary_df[\"Inflation Rate (%)\"].str.replace(\"%\", \"\").astype(float)\n",
    ")\n",
    "\n",
    "# Sorting the secondary_df by 'Year' in ascending order before the lag\n",
    "secondary_df = secondary_df.sort_values(by=\"Year\", ascending=True)\n",
    "\n",
    "# Create lagged column based on 'Inflation rate (%)'. Lag 1 represent a 12 month lag because these are annual metrics\n",
    "secondary_df[\"Inflation_rate_lag12months\"] = secondary_df[\"Inflation Rate (%)\"].shift(1)\n",
    "\n",
    "# Drop the 'Annual Change' column\n",
    "secondary_df = secondary_df.drop(columns=[\"Annual Change\"])\n",
    "\n",
    "# Rename 'Inflation Rate (%)' to 'Inflation_rate' and 'Year' to 'secondary_Year_id'\n",
    "secondary_df = secondary_df.rename(\n",
    "    columns={\"Inflation Rate (%)\": \"Inflation_rate\", \"Year\": \"secondary_Year_id\"}\n",
    ")\n",
    "\n",
    "secondary_df[-5:]"
   ]
  },
  {
   "cell_type": "markdown",
   "metadata": {
    "cell_id": "1f28570dc2a644ebbb7b3c800bb23222",
    "deepnote_cell_type": "text-cell-h1",
    "formattedRanges": []
   },
   "source": [
    "# Join Datasets"
   ]
  },
  {
   "cell_type": "code",
   "execution_count": 30,
   "metadata": {
    "cell_id": "acd9a97714a94d7abcb7bd2259a1b740",
    "deepnote_cell_type": "code",
    "deepnote_to_be_reexecuted": false,
    "execution_millis": 328,
    "execution_start": 1718234603599,
    "source_hash": null
   },
   "outputs": [],
   "source": [
    "# Let's rename some columns in the source data and drop unnecessary columns (e.g. raw dates)\n",
    "\n",
    "account_df.rename(\n",
    "    columns={\n",
    "        \"district_id\": \"account_district_id\",\n",
    "        \"date_formatted\": \"account_date_formatted\",\n",
    "    },\n",
    "    inplace=True,\n",
    ")\n",
    "account_df.drop(columns=[\"date\"], inplace=True)\n",
    "\n",
    "client_df.rename(columns={\"district_id\": \"client_district_id\"}, inplace=True)\n",
    "client_df.drop(columns=[\"birth_number\"], inplace=True)\n",
    "\n",
    "card_df.rename(\n",
    "    columns={\"type\": \"card_type\", \"issued_formatted\": \"card_issued_formatted\"},\n",
    "    inplace=True,\n",
    ")\n",
    "card_df.drop(columns=[\"issued\"], inplace=True)\n",
    "\n",
    "loan_df.rename(\n",
    "    columns={\n",
    "        \"date_formatted\": \"loan_date_formatted\",\n",
    "        \"amount\": \"loan_amount\",\n",
    "        \"duration\": \"loan_duration\",\n",
    "        \"payments\": \"loan_payments\",\n",
    "    },\n",
    "    inplace=True,\n",
    ")\n",
    "loan_df.drop(columns=[\"date\"], inplace=True)\n",
    "\n",
    "disp_df.drop(columns=[\"type\"], inplace=True)"
   ]
  },
  {
   "cell_type": "code",
   "execution_count": 31,
   "metadata": {
    "cell_id": "b3dec187d7a448bbb2fad2a35c197467",
    "deepnote_cell_type": "code",
    "deepnote_to_be_reexecuted": false,
    "execution_millis": 311,
    "execution_start": 1718234603616,
    "source_hash": null
   },
   "outputs": [],
   "source": [
    "# Left join dispositions with accounts and clients\n",
    "# Each record in disposition relates together a client with an account (i.e. the rights of clients to operate an account)\n",
    "disp_account_client_df = disp_df.merge(account_df, on=\"account_id\", how=\"left\").merge(\n",
    "    client_df, on=\"client_id\", how=\"left\"\n",
    ")"
   ]
  },
  {
   "cell_type": "code",
   "execution_count": 32,
   "metadata": {
    "cell_id": "c6aa44819c5a46e6b4b0dee542cf87e2",
    "deepnote_cell_type": "code",
    "deepnote_to_be_reexecuted": false,
    "execution_millis": 304,
    "execution_start": 1718234603624,
    "source_hash": null
   },
   "outputs": [],
   "source": [
    "# Left join the result with the cards - note that not every disposition (account and client relation) has a card\n",
    "disp_account_client_card_df = disp_account_client_df.merge(\n",
    "    card_df, on=\"disp_id\", how=\"left\"\n",
    ")"
   ]
  },
  {
   "cell_type": "code",
   "execution_count": 33,
   "metadata": {
    "cell_id": "1a9800a414934e3eb2ab68771850937e",
    "deepnote_cell_type": "code",
    "deepnote_to_be_reexecuted": false,
    "execution_millis": 300,
    "execution_start": 1718234603628,
    "source_hash": null
   },
   "outputs": [],
   "source": [
    "# Left join the account owners to the loan data. Analysis will be performed around loans, based on\n",
    "# previous results, we have 682 loans from which 76 are considered defaults\n",
    "loan_account_owners = loan_df.merge(\n",
    "    disp_account_client_card_df, on=\"account_id\", how=\"left\"\n",
    ")"
   ]
  },
  {
   "cell_type": "code",
   "execution_count": 34,
   "metadata": {
    "cell_id": "130dac8a7d70457882bae003a635465a",
    "deepnote_cell_type": "code",
    "deepnote_to_be_reexecuted": false,
    "execution_millis": 297,
    "execution_start": 1718234603631,
    "source_hash": null
   },
   "outputs": [],
   "source": [
    "# Left join districts to the loan data (adding demographic data at the district level)\n",
    "loan_account_owners_district = loan_account_owners.merge(\n",
    "    district_df, left_on=\"account_district_id\", right_on=\"District_code\", how=\"left\"\n",
    ")"
   ]
  },
  {
   "cell_type": "code",
   "execution_count": 35,
   "metadata": {
    "cell_id": "faa3e4d47e08435ba3f9ad49ef11cb24",
    "deepnote_cell_type": "code",
    "deepnote_to_be_reexecuted": false,
    "execution_millis": 286,
    "execution_start": 1718234603643,
    "source_hash": null
   },
   "outputs": [],
   "source": [
    "# Left join the summarized transactions to the loan data. Raw transactions file is not used, only new features\n",
    "loan_account_owners_district_trans = loan_account_owners_district.merge(\n",
    "    trans_summary_df, on=\"account_id\", how=\"left\"\n",
    ")"
   ]
  },
  {
   "cell_type": "code",
   "execution_count": 36,
   "metadata": {
    "cell_id": "c3014b4c4df94361b63d702bc0ee420f",
    "deepnote_cell_type": "code",
    "deepnote_to_be_reexecuted": false,
    "execution_millis": 279,
    "execution_start": 1718234603650,
    "source_hash": null
   },
   "outputs": [],
   "source": [
    "# Left join the summarized orders (loan payments) to the loan data. loan_payments_by_account_df is a summarized sub-dataset\n",
    "# of order_df.\n",
    "final_merged_df = loan_account_owners_district_trans.merge(\n",
    "    loan_payments_by_account_df, on=\"account_id\", how=\"left\"\n",
    ")"
   ]
  },
  {
   "cell_type": "code",
   "execution_count": 37,
   "metadata": {
    "cell_id": "1d9904ee5683483b9a2e985d5230e7f2",
    "deepnote_cell_type": "code",
    "deepnote_table_loading": false,
    "deepnote_table_state": {
     "filters": [],
     "pageIndex": 6,
     "pageSize": 10,
     "sortBy": []
    },
    "deepnote_to_be_reexecuted": false,
    "execution_millis": 274,
    "execution_start": 1718234603656,
    "source_hash": null
   },
   "outputs": [
    {
     "data": {
      "text/plain": [
       "Index(['loan_id', 'account_id', 'loan_amount', 'loan_duration',\n",
       "       'loan_payments', 'status', 'loan_date_formatted',\n",
       "       'default_or_likely_default', 'disp_id', 'client_id', 'user_flag',\n",
       "       'account_district_id', 'frequency', 'account_date_formatted',\n",
       "       'client_district_id', 'gender', 'age', 'card_id', 'card_type',\n",
       "       'card_issued_formatted', 'District_code', 'District_name', 'Region',\n",
       "       'Number_of_inhabitants', 'Municipalities_lt_499',\n",
       "       'Municipalities_500_to_1999', 'Municipalities_2000_9999',\n",
       "       'Municipalities_gt_10000', 'Number_of_cities',\n",
       "       'Ratio_of_Urban_Inhabitants', 'Average_Salary',\n",
       "       'Unemployment_rate_1995', 'Unemployment_rate_1996',\n",
       "       'Number_of_entrepreneurs_per_1000', 'Number_of_crimes_1995',\n",
       "       'Number_of_crimes_1996', 'count_transactions', 'count_withdrawals',\n",
       "       'max_withdrawal', 'sum_of_loan_payments', 'loan_year_id',\n",
       "       'secondary_Year_id', 'Inflation_rate', 'Inflation_rate_lag12months'],\n",
       "      dtype='object')"
      ]
     },
     "execution_count": 37,
     "metadata": {},
     "output_type": "execute_result"
    }
   ],
   "source": [
    "# Left join the secondary dataset(inflation data) to the final_merged_df (based on year of loan origination)\n",
    "\n",
    "# First extract the year from 'loan_date_formatted' in final_merged_df. To be used as key for the join\n",
    "final_merged_df[\"loan_year_id\"] = pd.to_datetime(\n",
    "    final_merged_df[\"loan_date_formatted\"]\n",
    ").dt.year\n",
    "\n",
    "# Left join on the 'loan_year_id' and 'Year' columns\n",
    "final_merged_df = final_merged_df.merge(\n",
    "    secondary_df, left_on=\"loan_year_id\", right_on=\"secondary_Year_id\", how=\"left\"\n",
    ")\n",
    "\n",
    "final_merged_df.columns"
   ]
  },
  {
   "cell_type": "markdown",
   "metadata": {
    "cell_id": "78ddd51da4704d34bc24b9479dcfec1e",
    "deepnote_cell_type": "text-cell-h1",
    "formattedRanges": []
   },
   "source": [
    "# Visualize Features related to Loan Defaults"
   ]
  },
  {
   "cell_type": "markdown",
   "metadata": {
    "cell_id": "8af752db91c04d2b9db8a9ed27272316",
    "deepnote_cell_type": "text-cell-h3",
    "formattedRanges": []
   },
   "source": [
    "### Numeric Variables Correlation "
   ]
  },
  {
   "cell_type": "code",
   "execution_count": 38,
   "metadata": {
    "cell_id": "9d317bc46ef84aa8af325a5c7a3f2e02",
    "deepnote_cell_type": "code",
    "deepnote_table_invalid": false,
    "deepnote_table_loading": false,
    "deepnote_table_state": {
     "filters": [],
     "pageIndex": 2,
     "pageSize": 10,
     "sortBy": []
    },
    "deepnote_to_be_reexecuted": false,
    "execution_millis": 219,
    "execution_start": 1718236198569,
    "source_hash": null
   },
   "outputs": [
    {
     "data": {
      "text/html": [
       "<div>\n",
       "<style scoped>\n",
       "    .dataframe tbody tr th:only-of-type {\n",
       "        vertical-align: middle;\n",
       "    }\n",
       "\n",
       "    .dataframe tbody tr th {\n",
       "        vertical-align: top;\n",
       "    }\n",
       "\n",
       "    .dataframe thead th {\n",
       "        text-align: right;\n",
       "    }\n",
       "</style>\n",
       "<table border=\"1\" class=\"dataframe\">\n",
       "  <thead>\n",
       "    <tr style=\"text-align: right;\">\n",
       "      <th></th>\n",
       "      <th>variables</th>\n",
       "      <th>correlation</th>\n",
       "    </tr>\n",
       "  </thead>\n",
       "  <tbody>\n",
       "    <tr>\n",
       "      <th>0</th>\n",
       "      <td>Number_of_entrepreneurs_per_1000</td>\n",
       "      <td>-0.046420</td>\n",
       "    </tr>\n",
       "    <tr>\n",
       "      <th>1</th>\n",
       "      <td>Municipalities_2000_9999</td>\n",
       "      <td>-0.042940</td>\n",
       "    </tr>\n",
       "    <tr>\n",
       "      <th>2</th>\n",
       "      <td>Number_of_cities</td>\n",
       "      <td>-0.037178</td>\n",
       "    </tr>\n",
       "    <tr>\n",
       "      <th>3</th>\n",
       "      <td>Average_Salary</td>\n",
       "      <td>-0.034555</td>\n",
       "    </tr>\n",
       "    <tr>\n",
       "      <th>4</th>\n",
       "      <td>Number_of_crimes_1996</td>\n",
       "      <td>-0.027963</td>\n",
       "    </tr>\n",
       "  </tbody>\n",
       "</table>\n",
       "</div>"
      ],
      "text/plain": [
       "                          variables  correlation\n",
       "0  Number_of_entrepreneurs_per_1000    -0.046420\n",
       "1          Municipalities_2000_9999    -0.042940\n",
       "2                  Number_of_cities    -0.037178\n",
       "3                    Average_Salary    -0.034555\n",
       "4             Number_of_crimes_1996    -0.027963"
      ]
     },
     "execution_count": 38,
     "metadata": {},
     "output_type": "execute_result"
    }
   ],
   "source": [
    "# Data preparation for the numeric variables correlation\n",
    "# Correlation using the numeric values in the final dataset\n",
    "# Capture descriptive statistics in a df (another way to get numeric cols is df.select_dtypes(include='number')\n",
    "desc = final_merged_df.describe()\n",
    "\n",
    "# Dropping some columns that would not show any meaningful value in the correlation (ids and dates)\n",
    "cols_to_drop = desc.filter(regex=\"_id$|_formatted$\").columns\n",
    "df_cleaned = desc.drop(columns=cols_to_drop)\n",
    "\n",
    "# Keep numeric columns from descriptive statistics\n",
    "numeric_columns = df_cleaned.columns\n",
    "\n",
    "num_correlations = (\n",
    "    final_merged_df[numeric_columns]\n",
    "    .corrwith(final_merged_df[\"default_or_likely_default\"])\n",
    "    .sort_values()\n",
    ")\n",
    "corr_df = num_correlations.reset_index()\n",
    "corr_df.columns = [\"variables\", \"correlation\"]\n",
    "\n",
    "corr_df.head()"
   ]
  },
  {
   "cell_type": "code",
   "execution_count": 39,
   "metadata": {
    "cell_id": "7ae8d782b9f54e8b90c39339d93195aa",
    "deepnote_cell_type": "code",
    "deepnote_to_be_reexecuted": false,
    "execution_millis": 154,
    "execution_start": 1718236220158,
    "source_hash": null
   },
   "outputs": [
    {
     "data": {
      "text/html": [
       "\n",
       "<style>\n",
       "  #altair-viz-6b1d3cb7f6d34dc9b624c723b0e0f11b.vega-embed {\n",
       "    width: 100%;\n",
       "    display: flex;\n",
       "  }\n",
       "\n",
       "  #altair-viz-6b1d3cb7f6d34dc9b624c723b0e0f11b.vega-embed details,\n",
       "  #altair-viz-6b1d3cb7f6d34dc9b624c723b0e0f11b.vega-embed details summary {\n",
       "    position: relative;\n",
       "  }\n",
       "</style>\n",
       "<div id=\"altair-viz-6b1d3cb7f6d34dc9b624c723b0e0f11b\"></div>\n",
       "<script type=\"text/javascript\">\n",
       "  var VEGA_DEBUG = (typeof VEGA_DEBUG == \"undefined\") ? {} : VEGA_DEBUG;\n",
       "  (function(spec, embedOpt){\n",
       "    let outputDiv = document.currentScript.previousElementSibling;\n",
       "    if (outputDiv.id !== \"altair-viz-6b1d3cb7f6d34dc9b624c723b0e0f11b\") {\n",
       "      outputDiv = document.getElementById(\"altair-viz-6b1d3cb7f6d34dc9b624c723b0e0f11b\");\n",
       "    }\n",
       "    const paths = {\n",
       "      \"vega\": \"https://cdn.jsdelivr.net/npm/vega@5?noext\",\n",
       "      \"vega-lib\": \"https://cdn.jsdelivr.net/npm/vega-lib?noext\",\n",
       "      \"vega-lite\": \"https://cdn.jsdelivr.net/npm/vega-lite@5.17.0?noext\",\n",
       "      \"vega-embed\": \"https://cdn.jsdelivr.net/npm/vega-embed@6?noext\",\n",
       "    };\n",
       "\n",
       "    function maybeLoadScript(lib, version) {\n",
       "      var key = `${lib.replace(\"-\", \"\")}_version`;\n",
       "      return (VEGA_DEBUG[key] == version) ?\n",
       "        Promise.resolve(paths[lib]) :\n",
       "        new Promise(function(resolve, reject) {\n",
       "          var s = document.createElement('script');\n",
       "          document.getElementsByTagName(\"head\")[0].appendChild(s);\n",
       "          s.async = true;\n",
       "          s.onload = () => {\n",
       "            VEGA_DEBUG[key] = version;\n",
       "            return resolve(paths[lib]);\n",
       "          };\n",
       "          s.onerror = () => reject(`Error loading script: ${paths[lib]}`);\n",
       "          s.src = paths[lib];\n",
       "        });\n",
       "    }\n",
       "\n",
       "    function showError(err) {\n",
       "      outputDiv.innerHTML = `<div class=\"error\" style=\"color:red;\">${err}</div>`;\n",
       "      throw err;\n",
       "    }\n",
       "\n",
       "    function displayChart(vegaEmbed) {\n",
       "      vegaEmbed(outputDiv, spec, embedOpt)\n",
       "        .catch(err => showError(`Javascript Error: ${err.message}<br>This usually means there's a typo in your chart specification. See the javascript console for the full traceback.`));\n",
       "    }\n",
       "\n",
       "    if(typeof define === \"function\" && define.amd) {\n",
       "      requirejs.config({paths});\n",
       "      require([\"vega-embed\"], displayChart, err => showError(`Error loading script: ${err.message}`));\n",
       "    } else {\n",
       "      maybeLoadScript(\"vega\", \"5\")\n",
       "        .then(() => maybeLoadScript(\"vega-lite\", \"5.17.0\"))\n",
       "        .then(() => maybeLoadScript(\"vega-embed\", \"6\"))\n",
       "        .catch(showError)\n",
       "        .then(() => displayChart(vegaEmbed));\n",
       "    }\n",
       "  })({\"config\": {\"view\": {\"continuousWidth\": 300, \"continuousHeight\": 300}}, \"layer\": [{\"mark\": {\"type\": \"bar\"}, \"encoding\": {\"color\": {\"field\": \"correlation\", \"scale\": {\"domain\": [-1, 1], \"scheme\": \"redblue\"}, \"type\": \"quantitative\"}, \"x\": {\"field\": \"variables\", \"sort\": null, \"title\": \"Variable\", \"type\": \"ordinal\"}, \"y\": {\"field\": \"correlation\", \"title\": \"Correlation\", \"type\": \"quantitative\"}}, \"name\": \"view_1\"}, {\"mark\": {\"type\": \"text\", \"align\": \"center\", \"dx\": -3}, \"encoding\": {\"color\": {\"condition\": {\"test\": \"(datum.correlation > 0)\", \"value\": \"green\"}, \"value\": \"red\"}, \"text\": {\"field\": \"correlation\", \"type\": \"quantitative\"}, \"x\": {\"field\": \"variables\", \"sort\": null, \"title\": \"Variable\", \"type\": \"ordinal\"}, \"y\": {\"field\": \"correlation\", \"title\": \"Correlation\", \"type\": \"quantitative\"}}}], \"data\": {\"name\": \"data-40aabe88528545e6fc9707e36101590c\"}, \"height\": 350, \"params\": [{\"name\": \"param_1\", \"select\": {\"type\": \"interval\", \"encodings\": [\"x\", \"y\"]}, \"bind\": \"scales\", \"views\": [\"view_1\"]}], \"title\": \"Correlation between Numeric Variables and  Default (or Likely Default)\", \"width\": 700, \"$schema\": \"https://vega.github.io/schema/vega-lite/v5.17.0.json\", \"datasets\": {\"data-40aabe88528545e6fc9707e36101590c\": [{\"variables\": \"Number_of_entrepreneurs_per_1000\", \"correlation\": -0.046}, {\"variables\": \"Municipalities_2000_9999\", \"correlation\": -0.043}, {\"variables\": \"Number_of_cities\", \"correlation\": -0.037}, {\"variables\": \"Average_Salary\", \"correlation\": -0.035}, {\"variables\": \"Number_of_crimes_1996\", \"correlation\": -0.028}, {\"variables\": \"Number_of_inhabitants\", \"correlation\": -0.026}, {\"variables\": \"Municipalities_500_to_1999\", \"correlation\": -0.02}, {\"variables\": \"count_withdrawals\", \"correlation\": -0.015}, {\"variables\": \"Municipalities_gt_10000\", \"correlation\": -0.013}, {\"variables\": \"Inflation_rate\", \"correlation\": -0.004}, {\"variables\": \"Ratio_of_Urban_Inhabitants\", \"correlation\": 0.0}, {\"variables\": \"Municipalities_lt_499\", \"correlation\": 0.005}, {\"variables\": \"age\", \"correlation\": 0.012}, {\"variables\": \"Unemployment_rate_1996\", \"correlation\": 0.018}, {\"variables\": \"District_code\", \"correlation\": 0.021}, {\"variables\": \"loan_duration\", \"correlation\": 0.026}, {\"variables\": \"Inflation_rate_lag12months\", \"correlation\": 0.047}, {\"variables\": \"count_transactions\", \"correlation\": 0.048}, {\"variables\": \"max_withdrawal\", \"correlation\": 0.143}, {\"variables\": \"loan_amount\", \"correlation\": 0.168}, {\"variables\": \"loan_payments\", \"correlation\": 0.182}, {\"variables\": \"sum_of_loan_payments\", \"correlation\": 0.182}]}}, {\"mode\": \"vega-lite\"});\n",
       "</script>"
      ],
      "text/plain": [
       "alt.LayerChart(...)"
      ]
     },
     "execution_count": 39,
     "metadata": {},
     "output_type": "execute_result"
    }
   ],
   "source": [
    "# Adjusting correlations to show only 3 decimals (to be displayed next to each bar)\n",
    "corr_df[\"correlation\"] = round(corr_df[\"correlation\"], 3)\n",
    "corr_df = corr_df.copy()\n",
    "# Create the Altair plot\n",
    "base_corr = alt.Chart(corr_df).encode(\n",
    "    x=alt.X(\"variables:O\", title=\"Variable\", sort=None),\n",
    "    y=alt.Y(\"correlation:Q\", title=\"Correlation\"),\n",
    ")\n",
    "\n",
    "# Text layer with correlation labels\n",
    "text_corr = base_corr.mark_text(align=\"center\", dx=-3).encode(\n",
    "    text=\"correlation\",\n",
    "    color=alt.condition(\n",
    "        alt.datum.correlation > 0,\n",
    "        alt.value(\"green\"),  # Positive correlation\n",
    "        alt.value(\"red\"),  # Negative correlation\n",
    "    ),\n",
    ")\n",
    "\n",
    "# Mark layer on the right with correlationneera values and color tempertature\n",
    "mark_corr = base_corr.mark_bar().encode(\n",
    "    color=alt.Color(\"correlation:Q\", scale=alt.Scale(domain=(-1, 1), scheme=\"redblue\"))\n",
    ")\n",
    "\n",
    "# Combine the text and mark layers\n",
    "chart = mark_corr + text_corr\n",
    "# Size change to the assembled chart and adding inteactive mode\n",
    "chart.properties(\n",
    "    width=700,\n",
    "    height=350,\n",
    "    title=\"Correlation between Numeric Variables and  Default (or Likely Default)\",\n",
    ").interactive()"
   ]
  },
  {
   "cell_type": "code",
   "execution_count": 40,
   "metadata": {
    "cell_id": "f0ae6fcbb53549bd84964b7d5a861d23",
    "deepnote_cell_type": "code",
    "deepnote_table_loading": false,
    "deepnote_table_state": {
     "filters": [],
     "pageIndex": 12,
     "pageSize": 10,
     "sortBy": []
    },
    "deepnote_to_be_reexecuted": false,
    "execution_millis": 282,
    "execution_start": 1718234604242,
    "source_hash": null
   },
   "outputs": [
    {
     "name": "stdout",
     "output_type": "stream",
     "text": [
      "P-Value for Anova - variable  Region : 0.15391658015974363 . Variable NOT Correlated\n",
      "P-Value for Anova - variable  gender : 0.5895678129551464 . Variable NOT Correlated\n",
      "P-Value for Anova - variable  card_type : 0.5883619470571322 . Variable NOT Correlated\n"
     ]
    }
   ],
   "source": [
    "# Running the one-way ANOVA test between Categorical Vars and Defaults\n",
    "# NOTE: Assumption(H0) is that Categorical Var and Target are NOT correlated\n",
    "cat_vars = [\"Region\", \"gender\", \"card_type\"]\n",
    "cat_anova_test(final_merged_df, cat_vars)"
   ]
  },
  {
   "cell_type": "code",
   "execution_count": 41,
   "metadata": {
    "cell_id": "b6903ef0963744719ce1b4f20226bad5",
    "deepnote_cell_type": "code",
    "deepnote_to_be_reexecuted": false,
    "execution_millis": 286,
    "execution_start": 1718235758190,
    "source_hash": null
   },
   "outputs": [
    {
     "data": {
      "text/plain": [
       "Text(0.5, 1.0, 'Distribution of Sum of Loan Payments by Account')"
      ]
     },
     "execution_count": 41,
     "metadata": {},
     "output_type": "execute_result"
    },
    {
     "data": {
      "image/png": "[encoded data removed]",
      "text/plain": [
       "<Figure size 640x480 with 1 Axes>"
      ]
     },
     "metadata": {},
     "output_type": "display_data"
    }
   ],
   "source": [
    "# Account owners making higher loan payments (likely due to higher loans) are more likely to default\n",
    "ax = sns.histplot(\n",
    "    data=final_merged_df,\n",
    "    x=\"sum_of_loan_payments\",\n",
    "    hue=\"default_or_likely_default\",\n",
    "    kde=False,\n",
    ")\n",
    "heights = [h.get_height() for h in ax.patches]\n",
    "half = int(round(len(heights) / 2, 0))\n",
    "true_values = heights[0:half]\n",
    "false_values = heights[half : len(heights)]\n",
    "total_values = list(np.array(true_values) + np.array(false_values))\n",
    "bad_rate = list(np.array(true_values) / np.array(total_values))\n",
    "patches = ax.patches\n",
    "for i in range(len(bad_rate)):\n",
    "    x = patches[i].get_x() + patches[i].get_width() / 2\n",
    "    y = patches[i].get_height() + 0.05\n",
    "    ax.annotate(\"{:.2f}\".format(bad_rate[i]), (x, y), ha=\"center\")\n",
    "ax.set_title(\"Distribution of Sum of Loan Payments by Account\")"
   ]
  },
  {
   "cell_type": "code",
   "execution_count": 42,
   "metadata": {
    "cell_id": "9382d7dc3d4a4bc79d0c67a9cb474e7a",
    "deepnote_cell_type": "code",
    "deepnote_to_be_reexecuted": false,
    "execution_millis": 290,
    "execution_start": 1718234737990,
    "source_hash": null
   },
   "outputs": [
    {
     "data": {
      "text/plain": [
       "Text(0.5, 1.0, 'Distribution of Loan Payments by Account')"
      ]
     },
     "execution_count": 42,
     "metadata": {},
     "output_type": "execute_result"
    },
    {
     "data": {
      "image/png": "[encoded data removed]",
      "text/plain": [
       "<Figure size 640x480 with 1 Axes>"
      ]
     },
     "metadata": {},
     "output_type": "display_data"
    }
   ],
   "source": [
    "# Histogram of Loan Payments and Default Status - higher loan payments are more associated with default\n",
    "# This is the most correlated variable to default (loan_payments and sum_of_loan_payments almost same\n",
    "# variable). Several breaks in the bad rate pattern, but\n",
    "ax = sns.histplot(\n",
    "    data=final_merged_df, x=\"loan_payments\", hue=\"default_or_likely_default\", kde=False\n",
    ")\n",
    "heights = [h.get_height() for h in ax.patches]\n",
    "half = int(round(len(heights) / 2, 0))\n",
    "true_values = heights[0:half]\n",
    "false_values = heights[half : len(heights)]\n",
    "total_values = list(np.array(true_values) + np.array(false_values))\n",
    "bad_rate = list(np.array(true_values) / np.array(total_values))\n",
    "patches = ax.patches\n",
    "for i in range(len(bad_rate)):\n",
    "    x = patches[i].get_x() + patches[i].get_width() / 2\n",
    "    y = patches[i].get_height() + 0.05\n",
    "    ax.annotate(\"{:.2f}\".format(bad_rate[i]), (x, y), ha=\"center\")\n",
    "ax.set_title(\"Distribution of Loan Payments by Account\")"
   ]
  },
  {
   "cell_type": "code",
   "execution_count": 43,
   "metadata": {
    "cell_id": "09bcbf0d01ad4400b0e12d27946a8d67",
    "deepnote_cell_type": "code",
    "deepnote_to_be_reexecuted": false,
    "execution_millis": 398,
    "execution_start": 1718234604809,
    "source_hash": null
   },
   "outputs": [
    {
     "data": {
      "text/plain": [
       "Text(0.5, 1.0, 'Histogram of Loan Amount and Default Status')"
      ]
     },
     "execution_count": 43,
     "metadata": {},
     "output_type": "execute_result"
    },
    {
     "data": {
      "image/png": "[encoded data removed]",
      "text/plain": [
       "<Figure size 640x480 with 1 Axes>"
      ]
     },
     "metadata": {},
     "output_type": "display_data"
    }
   ],
   "source": [
    "# Histogram of Loan Amount and Default Status - higher loan amounts are more associated with default\n",
    "# This variables showed the 3rd highest correlation. Not perfectly monotonic but there is a clear\n",
    "# descending pattern in loss rates\n",
    "ax = sns.histplot(\n",
    "    data=final_merged_df, x=\"loan_amount\", hue=\"default_or_likely_default\", kde=False\n",
    ")\n",
    "heights = [h.get_height() for h in ax.patches]\n",
    "half = int(round(len(heights) / 2, 0))\n",
    "true_values = heights[0:half]\n",
    "false_values = heights[half : len(heights)]\n",
    "total_values = list(np.array(true_values) + np.array(false_values))\n",
    "bad_rate = list(np.array(true_values) / np.array(total_values))\n",
    "patches = ax.patches\n",
    "for i in range(len(bad_rate)):\n",
    "    x = patches[i].get_x() + patches[i].get_width() / 2\n",
    "    y = patches[i].get_height() + 0.05\n",
    "    ax.annotate(\"{:.2f}\".format(bad_rate[i]), (x, y), ha=\"center\")\n",
    "ax.set_title(\"Histogram of Loan Amount and Default Status\")"
   ]
  },
  {
   "cell_type": "code",
   "execution_count": 44,
   "metadata": {
    "cell_id": "f04e16ef7b9f42b09a902eff0a0108a4",
    "deepnote_cell_type": "code",
    "deepnote_to_be_reexecuted": false,
    "execution_millis": 369,
    "execution_start": 1718234607902,
    "source_hash": null
   },
   "outputs": [
    {
     "data": {
      "text/plain": [
       "Text(0.5, 1.0, 'Distribution of Days from Account Creation to Loan Granted')"
      ]
     },
     "execution_count": 44,
     "metadata": {},
     "output_type": "execute_result"
    },
    {
     "data": {
      "image/png": "[encoded data removed]",
      "text/plain": [
       "<Figure size 640x480 with 1 Axes>"
      ]
     },
     "metadata": {},
     "output_type": "display_data"
    }
   ],
   "source": [
    "# Engineer a new feature of the days from account creation to loan granted\n",
    "final_merged_df[\"days_from_account_creation_to_loan_granted\"] = (\n",
    "    final_merged_df[\"loan_date_formatted\"] - final_merged_df[\"account_date_formatted\"]\n",
    ").dt.days\n",
    "\n",
    "ax = sns.histplot(\n",
    "    data=final_merged_df,\n",
    "    x=\"days_from_account_creation_to_loan_granted\",\n",
    "    hue=\"default_or_likely_default\",\n",
    "    kde=False,\n",
    ")\n",
    "heights = [h.get_height() for h in ax.patches]\n",
    "half = int(round(len(heights) / 2, 0))\n",
    "true_values = heights[0:half]\n",
    "false_values = heights[half : len(heights)]\n",
    "total_values = list(np.array(true_values) + np.array(false_values))\n",
    "bad_rate = list(np.array(true_values) / np.array(total_values))\n",
    "patches = ax.patches\n",
    "for i in range(len(bad_rate)):\n",
    "    x = patches[i].get_x() + patches[i].get_width() / 2\n",
    "    y = patches[i].get_height() + 0.05\n",
    "    ax.annotate(\"{:.2f}\".format(bad_rate[i]), (x, y), ha=\"center\")\n",
    "ax.set_title(\"Distribution of Days from Account Creation to Loan Granted\")"
   ]
  },
  {
   "cell_type": "code",
   "execution_count": 45,
   "metadata": {
    "cell_id": "0878becdafe540958000be86fcda9f0a",
    "deepnote_cell_type": "code",
    "deepnote_to_be_reexecuted": false,
    "execution_millis": 299,
    "execution_start": 1718234607247,
    "source_hash": null
   },
   "outputs": [
    {
     "data": {
      "text/plain": [
       "Text(0.5, 1.0, 'Distribution of Max Withdrawal in Transactions History by Account')"
      ]
     },
     "execution_count": 45,
     "metadata": {},
     "output_type": "execute_result"
    },
    {
     "data": {
      "image/png": "[encoded data removed]",
      "text/plain": [
       "<Figure size 640x480 with 1 Axes>"
      ]
     },
     "metadata": {},
     "output_type": "display_data"
    }
   ],
   "source": [
    "# Account owners with high maximum withdrawals in their history of transactions are more likely to default\n",
    "ax = sns.histplot(\n",
    "    data=final_merged_df, x=\"max_withdrawal\", hue=\"default_or_likely_default\", kde=False\n",
    ")\n",
    "heights = [h.get_height() for h in ax.patches]\n",
    "half = int(round(len(heights) / 2, 0))\n",
    "true_values = heights[0:half]\n",
    "false_values = heights[half : len(heights)]\n",
    "total_values = list(np.array(true_values) + np.array(false_values))\n",
    "bad_rate = list(np.array(true_values) / np.array(total_values))\n",
    "patches = ax.patches\n",
    "for i in range(len(bad_rate)):\n",
    "    x = patches[i].get_x() + patches[i].get_width() / 2\n",
    "    y = patches[i].get_height() + 0.05\n",
    "    ax.annotate(\"{:.2f}\".format(bad_rate[i]), (x, y), ha=\"center\")\n",
    "ax.set_title(\"Distribution of Max Withdrawal in Transactions History by Account\")"
   ]
  },
  {
   "cell_type": "code",
   "execution_count": 46,
   "metadata": {
    "cell_id": "c5fb62bdd0ee478b95464ee7cf05fa2c",
    "deepnote_cell_type": "code",
    "deepnote_to_be_reexecuted": false,
    "execution_millis": 281,
    "execution_start": 1718234604244,
    "source_hash": null
   },
   "outputs": [
    {
     "data": {
      "text/plain": [
       "<Axes: xlabel='gender'>"
      ]
     },
     "execution_count": 46,
     "metadata": {},
     "output_type": "execute_result"
    },
    {
     "data": {
      "image/png": "[encoded data removed]",
      "text/plain": [
       "<Figure size 640x480 with 1 Axes>"
      ]
     },
     "metadata": {},
     "output_type": "display_data"
    }
   ],
   "source": [
    "# Relationship between the Gender of Account Owner and Default Status - there is no apparent pattern\n",
    "# This relationship was confirmed by the Anove test\n",
    "pd.crosstab(\n",
    "    final_merged_df[\"gender\"], final_merged_df[\"default_or_likely_default\"]\n",
    ").plot.bar(stacked=False)"
   ]
  },
  {
   "cell_type": "code",
   "execution_count": 47,
   "metadata": {
    "cell_id": "a6bd7719bd28481f90b47625edd83133",
    "deepnote_cell_type": "code",
    "deepnote_to_be_reexecuted": false,
    "execution_millis": 353,
    "execution_start": 1718234604452,
    "source_hash": null
   },
   "outputs": [
    {
     "data": {
      "text/plain": [
       "Text(0.5, 1.0, 'Histogram of Age of the Account Owner by Default Status')"
      ]
     },
     "execution_count": 47,
     "metadata": {},
     "output_type": "execute_result"
    },
    {
     "data": {
      "image/png": "[encoded data removed]",
      "text/plain": [
       "<Figure size 640x480 with 1 Axes>"
      ]
     },
     "metadata": {},
     "output_type": "display_data"
    }
   ],
   "source": [
    "# Histogram of Age of the Account Owner by Default Status - there is no apparent pattern\n",
    "# Similar to gender, ANOVA confirmed no correlation\n",
    "ax = sns.histplot(\n",
    "    data=final_merged_df, x=\"age\", hue=\"default_or_likely_default\", kde=False\n",
    ")\n",
    "heights = [h.get_height() for h in ax.patches]\n",
    "half = int(round(len(heights) / 2, 0))\n",
    "true_values = heights[0:half]\n",
    "false_values = heights[half : len(heights)]\n",
    "total_values = list(np.array(true_values) + np.array(false_values))\n",
    "bad_rate = list(np.array(true_values) / np.array(total_values))\n",
    "patches = ax.patches\n",
    "for i in range(len(bad_rate)):\n",
    "    x = patches[i].get_x() + patches[i].get_width() / 2\n",
    "    y = patches[i].get_height() + 0.05\n",
    "    ax.annotate(\"{:.2f}\".format(bad_rate[i]), (x, y), ha=\"center\")\n",
    "ax.set_title(\"Histogram of Age of the Account Owner by Default Status\")"
   ]
  },
  {
   "cell_type": "code",
   "execution_count": 48,
   "metadata": {
    "cell_id": "5e482159edb846bc990bd931719ad6d4",
    "deepnote_cell_type": "code",
    "deepnote_to_be_reexecuted": false,
    "execution_millis": 331,
    "execution_start": 1718234605187,
    "source_hash": null
   },
   "outputs": [
    {
     "data": {
      "text/plain": [
       "Text(0.5, 1.0, 'Scatter Plot of Account by Loan Amount vs. Loan Payments and their Default Status')"
      ]
     },
     "execution_count": 48,
     "metadata": {},
     "output_type": "execute_result"
    },
    {
     "data": {
      "image/png": "[encoded data removed]",
      "text/plain": [
       "<Figure size 640x480 with 1 Axes>"
      ]
     },
     "metadata": {},
     "output_type": "display_data"
    }
   ],
   "source": [
    "# Visualizing Size of a Loan and size of Payment along defaults. We can identify five tiers that\n",
    "# seem to be associated to interest rates\n",
    "sns.scatterplot(\n",
    "    data=final_merged_df,\n",
    "    x=\"loan_amount\",\n",
    "    y=\"loan_payments\",\n",
    "    hue=\"default_or_likely_default\",\n",
    ").set_title(\n",
    "    \"Scatter Plot of Account by Loan Amount vs. Loan Payments and their Default Status\"\n",
    ")"
   ]
  },
  {
   "cell_type": "code",
   "execution_count": 49,
   "metadata": {
    "cell_id": "13a2a864ec42498aac7d28d8920048da",
    "deepnote_cell_type": "code",
    "deepnote_to_be_reexecuted": false,
    "execution_millis": 703,
    "execution_start": 1718234605530,
    "source_hash": null
   },
   "outputs": [
    {
     "data": {
      "text/plain": [
       "Text(0.5, 1.0, 'Kernel Density Plot of Contours of Loan Amount and Loan Payment by Default Status')"
      ]
     },
     "execution_count": 49,
     "metadata": {},
     "output_type": "execute_result"
    },
    {
     "data": {
      "image/png": "[encoded data removed]",
      "text/plain": [
       "<Figure size 640x480 with 1 Axes>"
      ]
     },
     "metadata": {},
     "output_type": "display_data"
    }
   ],
   "source": [
    "# Kernel Density Plot of Contours of Loan Amount and Loan Payment by Default Status\n",
    "# Defaulters tend to have higher loan amounts and loan payments\n",
    "sns.kdeplot(\n",
    "    data=final_merged_df,\n",
    "    x=\"loan_amount\",\n",
    "    y=\"loan_payments\",\n",
    "    hue=\"default_or_likely_default\",\n",
    "    fill=False,\n",
    ").set_title(\n",
    "    \"Kernel Density Plot of Contours of Loan Amount and Loan Payment by Default Status\"\n",
    ")"
   ]
  },
  {
   "cell_type": "code",
   "execution_count": 50,
   "metadata": {
    "cell_id": "2a39a1442ecc491a8f1ac9e0591de4c3",
    "deepnote_cell_type": "code",
    "deepnote_to_be_reexecuted": false,
    "execution_millis": 310,
    "execution_start": 1718234606251,
    "source_hash": null
   },
   "outputs": [
    {
     "name": "stdout",
     "output_type": "stream",
     "text": [
      "default_or_likely_default  card_type\n",
      "False                      classic      130\n",
      "                           junior        20\n",
      "                           gold          15\n",
      "True                       classic        3\n",
      "                           gold           1\n",
      "                           junior         1\n",
      "Name: card_type, dtype: int64\n"
     ]
    },
    {
     "data": {
      "text/plain": [
       "<Axes: xlabel='card_type'>"
      ]
     },
     "execution_count": 50,
     "metadata": {},
     "output_type": "execute_result"
    },
    {
     "data": {
      "image/png": "[encoded data removed]",
      "text/plain": [
       "<Figure size 640x480 with 1 Axes>"
      ]
     },
     "metadata": {},
     "output_type": "display_data"
    }
   ],
   "source": [
    "# Relationship between Card Type and Default Status\n",
    "# Junior cards may have a higher default rate, but we have very limited data on credit cards\n",
    "# This means that only about a quarter of customers with loans have a card and bad rates for those\n",
    "# customers is only 2.9, compared to 11.14 to all loan population\n",
    "print(\n",
    "    final_merged_df.groupby(by=\"default_or_likely_default\")[\"card_type\"].value_counts()\n",
    ")\n",
    "pd.crosstab(\n",
    "    final_merged_df[\"card_type\"], final_merged_df[\"default_or_likely_default\"]\n",
    ").plot.bar(stacked=True)"
   ]
  },
  {
   "cell_type": "code",
   "execution_count": 51,
   "metadata": {
    "cell_id": "8ca5c75ae8264c82bcc1aae352268f78",
    "deepnote_cell_type": "code",
    "deepnote_to_be_reexecuted": false,
    "execution_millis": 462,
    "execution_start": 1718234606467,
    "source_hash": null
   },
   "outputs": [
    {
     "data": {
      "text/plain": [
       "[Text(0, 0, 'west Bohemia'),\n",
       " Text(1, 0, 'east Bohemia'),\n",
       " Text(2, 0, 'central Bohemia'),\n",
       " Text(3, 0, 'Prague'),\n",
       " Text(4, 0, 'south Bohemia'),\n",
       " Text(5, 0, 'south Moravia'),\n",
       " Text(6, 0, 'north Moravia'),\n",
       " Text(7, 0, 'north Bohemia')]"
      ]
     },
     "execution_count": 51,
     "metadata": {},
     "output_type": "execute_result"
    },
    {
     "data": {
      "image/png": "[encoded data removed]",
      "text/plain": [
       "<Figure size 640x480 with 1 Axes>"
      ]
     },
     "metadata": {},
     "output_type": "display_data"
    }
   ],
   "source": [
    "# Different regions of the Czech Republic have different loan default rates\n",
    "# Region did not show correlation with ANOVA. Results below confirm this for the most part\n",
    "# The only thing to highlight here is the very low bad rate in North Bohemia\n",
    "ax = sns.histplot(\n",
    "    final_merged_df,\n",
    "    x=\"Region\",\n",
    "    weights=\"loan_amount\",\n",
    "    hue=\"default_or_likely_default\",\n",
    "    edgecolor=\"white\",\n",
    "    shrink=0.8,\n",
    ")\n",
    "heights = [h.get_height() for h in ax.patches]\n",
    "half = int(round(len(heights) / 2, 0))\n",
    "true_values = heights[0:half]\n",
    "false_values = heights[half : len(heights)]\n",
    "total_values = list(np.array(true_values) + np.array(false_values))\n",
    "bad_rate = list(np.array(true_values) / np.array(total_values))\n",
    "patches = ax.patches\n",
    "for i in range(len(bad_rate)):\n",
    "    x = patches[i].get_x() + patches[i].get_width() / 2\n",
    "    y = patches[i].get_height() + 0.05\n",
    "    ax.annotate(\"{:.2f}\".format(bad_rate[i]), (x, y), ha=\"center\")\n",
    "ax.set_title(\"Loan Amounts in Different Geographic Regions by Default Status\")\n",
    "ax.set_ylabel(\"Loan Amounts\")\n",
    "ax.set_xticks(ax.get_xticks())\n",
    "ax.set_xticklabels(ax.get_xticklabels(), rotation=45, ha=\"right\")"
   ]
  },
  {
   "cell_type": "code",
   "execution_count": 52,
   "metadata": {
    "cell_id": "b1d98f762f4e446da653fb5fed554b22",
    "deepnote_cell_type": "code",
    "deepnote_to_be_reexecuted": false,
    "execution_millis": 489,
    "execution_start": 1718234606933,
    "source_hash": null
   },
   "outputs": [
    {
     "data": {
      "text/html": [
       "<iframe srcdoc=\"&lt;!DOCTYPE html&gt;\n",
       "&lt;html&gt;\n",
       "&lt;head&gt;\n",
       "    \n",
       "    &lt;meta http-equiv=&quot;content-type&quot; content=&quot;text/html; charset=UTF-8&quot; /&gt;\n",
       "    \n",
       "        &lt;script&gt;\n",
       "            L_NO_TOUCH = false;\n",
       "            L_DISABLE_3D = false;\n",
       "        &lt;/script&gt;\n",
       "    \n",
       "    &lt;style&gt;html, body {width: 100%;height: 100%;margin: 0;padding: 0;}&lt;/style&gt;\n",
       "    &lt;style&gt;#map {position:absolute;top:0;bottom:0;right:0;left:0;}&lt;/style&gt;\n",
       "    &lt;script src=&quot;https://cdn.jsdelivr.net/npm/leaflet@1.9.3/dist/leaflet.js&quot;&gt;&lt;/script&gt;\n",
       "    &lt;script src=&quot;https://code.jquery.com/jquery-3.7.1.min.js&quot;&gt;&lt;/script&gt;\n",
       "    &lt;script src=&quot;https://cdn.jsdelivr.net/npm/bootstrap@5.2.2/dist/js/bootstrap.bundle.min.js&quot;&gt;&lt;/script&gt;\n",
       "    &lt;script src=&quot;https://cdnjs.cloudflare.com/ajax/libs/Leaflet.awesome-markers/2.0.2/leaflet.awesome-markers.js&quot;&gt;&lt;/script&gt;\n",
       "    &lt;link rel=&quot;stylesheet&quot; href=&quot;https://cdn.jsdelivr.net/npm/leaflet@1.9.3/dist/leaflet.css&quot;/&gt;\n",
       "    &lt;link rel=&quot;stylesheet&quot; href=&quot;https://cdn.jsdelivr.net/npm/bootstrap@5.2.2/dist/css/bootstrap.min.css&quot;/&gt;\n",
       "    &lt;link rel=&quot;stylesheet&quot; href=&quot;https://netdna.bootstrapcdn.com/bootstrap/3.0.0/css/bootstrap.min.css&quot;/&gt;\n",
       "    &lt;link rel=&quot;stylesheet&quot; href=&quot;https://cdn.jsdelivr.net/npm/@fortawesome/fontawesome-free@6.2.0/css/all.min.css&quot;/&gt;\n",
       "    &lt;link rel=&quot;stylesheet&quot; href=&quot;https://cdnjs.cloudflare.com/ajax/libs/Leaflet.awesome-markers/2.0.2/leaflet.awesome-markers.css&quot;/&gt;\n",
       "    &lt;link rel=&quot;stylesheet&quot; href=&quot;https://cdn.jsdelivr.net/gh/python-visualization/folium/folium/templates/leaflet.awesome.rotate.min.css&quot;/&gt;\n",
       "    \n",
       "            &lt;meta name=&quot;viewport&quot; content=&quot;width=device-width,\n",
       "                initial-scale=1.0, maximum-scale=1.0, user-scalable=no&quot; /&gt;\n",
       "            &lt;style&gt;\n",
       "                #map_9dc442856c9dc48e549712115f4507d7 {\n",
       "                    position: relative;\n",
       "                    width: 100.0%;\n",
       "                    height: 100.0%;\n",
       "                    left: 0.0%;\n",
       "                    top: 0.0%;\n",
       "                }\n",
       "                .leaflet-container { font-size: 1rem; }\n",
       "            &lt;/style&gt;\n",
       "        \n",
       "&lt;/head&gt;\n",
       "&lt;body&gt;\n",
       "    \n",
       "    \n",
       "            &lt;div class=&quot;folium-map&quot; id=&quot;map_9dc442856c9dc48e549712115f4507d7&quot; &gt;&lt;/div&gt;\n",
       "        \n",
       "&lt;/body&gt;\n",
       "&lt;script&gt;\n",
       "    \n",
       "    \n",
       "            var map_9dc442856c9dc48e549712115f4507d7 = L.map(\n",
       "                &quot;map_9dc442856c9dc48e549712115f4507d7&quot;,\n",
       "                {\n",
       "                    center: [50.0, 15.0],\n",
       "                    crs: L.CRS.EPSG3857,\n",
       "                    maxBounds: [[-90, -180], [90, 180]],\n",
       "                    zoom: 7,\n",
       "                    zoomControl: false,\n",
       "                    preferCanvas: false,\n",
       "                    titles: &quot;openstreetmap&quot;,\n",
       "                    scrollWheelZoom: false,\n",
       "                    dragging: false,\n",
       "                }\n",
       "            );\n",
       "\n",
       "            \n",
       "\n",
       "        \n",
       "    \n",
       "            var tile_layer_0b59e4b33bf9affef1a77fec0d0c8871 = L.tileLayer(\n",
       "                &quot;https://tile.openstreetmap.org/{z}/{x}/{y}.png&quot;,\n",
       "                {&quot;attribution&quot;: &quot;\\u0026copy; \\u003ca href=\\&quot;https://www.openstreetmap.org/copyright\\&quot;\\u003eOpenStreetMap\\u003c/a\\u003e contributors&quot;, &quot;detectRetina&quot;: false, &quot;maxNativeZoom&quot;: 19, &quot;maxZoom&quot;: 19, &quot;minZoom&quot;: 7, &quot;noWrap&quot;: false, &quot;opacity&quot;: 1, &quot;subdomains&quot;: &quot;abc&quot;, &quot;tms&quot;: false}\n",
       "            );\n",
       "        \n",
       "    \n",
       "            tile_layer_0b59e4b33bf9affef1a77fec0d0c8871.addTo(map_9dc442856c9dc48e549712115f4507d7);\n",
       "        \n",
       "&lt;/script&gt;\n",
       "&lt;/html&gt;\" width=\"800\" height=\"500\"style=\"border:none !important;\" \"allowfullscreen\" \"webkitallowfullscreen\" \"mozallowfullscreen\"></iframe>"
      ],
      "text/plain": [
       "<folium.folium.Map at 0x7feb7043a380>"
      ]
     },
     "execution_count": 52,
     "metadata": {},
     "output_type": "execute_result"
    }
   ],
   "source": [
    "# Display a map of the Czech Republic\n",
    "# Tried to show bad rates by color, but given the changes in geography since this data was provided,\n",
    "# we could not add that dimention (boundaries have changed).\n",
    "import folium as folium\n",
    "\n",
    "FoliumFigure = folium.Figure(width=800, height=500)\n",
    "CzechMap = folium.Map(\n",
    "    location=[50, 15],\n",
    "    titles=\"openstreetmap\",\n",
    "    scrollWheelZoom=False,\n",
    "    dragging=False,\n",
    "    zoom_control=False,\n",
    "    zoom_start=7,\n",
    "    min_zoom=7,\n",
    "    max_zoom=7,\n",
    "    max_bounds=True,\n",
    ").add_to(FoliumFigure)\n",
    "CzechMap"
   ]
  },
  {
   "cell_type": "code",
   "execution_count": null,
   "metadata": {},
   "outputs": [],
   "source": []
  },
  {
   "cell_type": "markdown",
   "metadata": {
    "created_in_deepnote_cell": true,
    "deepnote_cell_type": "markdown"
   },
   "source": [
    "<a style='text-decoration:none;line-height:16px;display:flex;color:#5B5B62;padding:10px;justify-content:end;' href='https://deepnote.com?utm_source=created-in-deepnote-cell&projectId=2f3859f7-f67c-47af-902f-3ba4997533f9' target=\"_blank\">\n",
    "<img alt='Created in deepnote.com' style='display:inline;max-height:16px;margin:0px;margin-right:7.5px;' src='data:image/svg+xml;base64,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' > </img>\n",
    "Created in <span style='font-weight:600;margin-left:4px;'>Deepnote</span></a>"
   ]
  }
 ],
 "metadata": {
  "deepnote_execution_queue": [],
  "deepnote_notebook_id": "dc9d8292c2a04422aba6de6d4b2c7d10",
  "kernelspec": {
   "display_name": "conda_pytorch_p310",
   "language": "python",
   "name": "conda_pytorch_p310"
  },
  "language_info": {
   "codemirror_mode": {
    "name": "ipython",
    "version": 3
   },
   "file_extension": ".py",
   "mimetype": "text/x-python",
   "name": "python",
   "nbconvert_exporter": "python",
   "pygments_lexer": "ipython3",
   "version": "3.10.14"
  }
 },
 "nbformat": 4,
 "nbformat_minor": 4
}
